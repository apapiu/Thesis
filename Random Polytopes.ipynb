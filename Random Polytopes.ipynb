{
 "cells": [
  {
   "cell_type": "markdown",
   "metadata": {},
   "source": [
    "### Generating Random Polytopes:"
   ]
  },
  {
   "cell_type": "markdown",
   "metadata": {},
   "source": [
    "We will generate random points on the sphere $S^3$ and take their convex hull and then analyze their combinatorial structure:"
   ]
  },
  {
   "cell_type": "code",
   "execution_count": 2,
   "metadata": {
    "collapsed": false
   },
   "outputs": [],
   "source": [
    "import numpy as np\n",
    "import matplotlib.pyplot as plt\n",
    "\n",
    "%matplotlib inline"
   ]
  },
  {
   "cell_type": "code",
   "execution_count": 3,
   "metadata": {
    "collapsed": true
   },
   "outputs": [],
   "source": [
    "n = 3\n",
    "p = 15"
   ]
  },
  {
   "cell_type": "code",
   "execution_count": 4,
   "metadata": {
    "collapsed": true
   },
   "outputs": [],
   "source": [
    "#given a simplical polytope - output it as a simplical complex.\n",
    "def get_simplical_complex(polyhedron):\n",
    "    faces = polyhedron.faces(polyhedron.dim() - 1) #getting the facets\n",
    "    \n",
    "    #now we iterate over each facet and transform to a list:\n",
    "    facet_list = [[vert.index() for vert in face.vertices()] for face in faces]\n",
    "    \n",
    "    polyhedron_SC = SimplicialComplex(facet_list)\n",
    "    return polyhedron_SC"
   ]
  },
  {
   "cell_type": "code",
   "execution_count": 5,
   "metadata": {
    "collapsed": true
   },
   "outputs": [],
   "source": [
    "def random_polytope(n = 3, p = 15):\n",
    "    ring = RDF^n #this is just R^n with double precision\n",
    "    vertices = [ring.random_element() for i in range(p)]\n",
    "    plh = Polyhedron(vertices)\n",
    "    return(plh)"
   ]
  },
  {
   "cell_type": "code",
   "execution_count": 6,
   "metadata": {
    "collapsed": false
   },
   "outputs": [],
   "source": [
    "def sphere_polytope(d = 3, p = 30):\n",
    "    \n",
    "    X = np.random.normal(size = (p,d)) #generate normal matrix\n",
    "    norms = np.linalg.norm(X,axis = 1, keepdims=True)\n",
    "    X = matrix(X/norms) #normalize rows\n",
    "    plh = Polyhedron(list(X)) \n",
    "    return(plh)"
   ]
  },
  {
   "cell_type": "code",
   "execution_count": 16,
   "metadata": {
    "collapsed": false
   },
   "outputs": [
    {
     "data": {
      "text/plain": [
       "A 4-dimensional polyhedron in RDF^4 defined as the convex hull of 30 vertices (use the .plot() method to plot)"
      ]
     },
     "execution_count": 16,
     "metadata": {},
     "output_type": "execute_result"
    }
   ],
   "source": [
    "sphere_polytope(d = 4)"
   ]
  },
  {
   "cell_type": "code",
   "execution_count": 17,
   "metadata": {
    "collapsed": true
   },
   "outputs": [],
   "source": [
    "plh = sphere_polytope(d = 4, p = 15)"
   ]
  },
  {
   "cell_type": "code",
   "execution_count": 18,
   "metadata": {
    "collapsed": false
   },
   "outputs": [
    {
     "data": {
      "text/plain": [
       "(1, 15, 69, 108, 54, 1)"
      ]
     },
     "execution_count": 18,
     "metadata": {},
     "output_type": "execute_result"
    }
   ],
   "source": [
    "plh.f_vector()"
   ]
  },
  {
   "cell_type": "code",
   "execution_count": 19,
   "metadata": {
    "collapsed": false
   },
   "outputs": [
    {
     "data": {
      "text/plain": [
       "True"
      ]
     },
     "execution_count": 19,
     "metadata": {},
     "output_type": "execute_result"
    }
   ],
   "source": [
    "plh.is_simplicial()"
   ]
  },
  {
   "cell_type": "code",
   "execution_count": 20,
   "metadata": {
    "collapsed": false
   },
   "outputs": [],
   "source": [
    "plh_sc = get_simplical_complex(plh)"
   ]
  },
  {
   "cell_type": "code",
   "execution_count": 22,
   "metadata": {
    "collapsed": false
   },
   "outputs": [
    {
     "data": {
      "text/plain": [
       "Simplicial complex with 15 vertices and 53 facets"
      ]
     },
     "execution_count": 22,
     "metadata": {},
     "output_type": "execute_result"
    }
   ],
   "source": [
    "plh_sc.alexander_dual()"
   ]
  },
  {
   "cell_type": "code",
   "execution_count": 69,
   "metadata": {
    "collapsed": false
   },
   "outputs": [
    {
     "data": {
      "text/plain": [
       "A 3-dimensional polyhedron in RDF^3 defined as the convex hull of 12 vertices (use the .plot() method to plot)"
      ]
     },
     "execution_count": 69,
     "metadata": {},
     "output_type": "execute_result"
    }
   ],
   "source": [
    "random_polytope()"
   ]
  },
  {
   "cell_type": "markdown",
   "metadata": {},
   "source": [
    "Generate a bunch of random polytopes and see how many vertices they have:"
   ]
  },
  {
   "cell_type": "code",
   "execution_count": 83,
   "metadata": {
    "collapsed": false
   },
   "outputs": [],
   "source": [
    "f_0 = []\n",
    "for i in range(5000):\n",
    "    plh = random_polytope(p = 20)\n",
    "    f_0.append(plh.n_vertices())"
   ]
  },
  {
   "cell_type": "code",
   "execution_count": 84,
   "metadata": {
    "collapsed": false
   },
   "outputs": [
    {
     "data": {
      "text/plain": [
       "(array([    7.,    63.,   234.,   635.,  1076.,  1269.,   953.,   520.,\n",
       "          194.,    49.]),\n",
       " array([  9.,  10.,  11.,  12.,  13.,  14.,  15.,  16.,  17.,  18.,  19.]),\n",
       " <a list of 10 Patch objects>)"
      ]
     },
     "execution_count": 84,
     "metadata": {},
     "output_type": "execute_result"
    },
    {
     "data": {
      "image/png": "[encoded data removed]",
      "text/plain": [
       "<matplotlib.figure.Figure object at 0x19c731990>"
      ]
     },
     "metadata": {},
     "output_type": "display_data"
    }
   ],
   "source": [
    "plt.hist(f_0)"
   ]
  },
  {
   "cell_type": "code",
   "execution_count": 100,
   "metadata": {
    "collapsed": false
   },
   "outputs": [
    {
     "data": {
      "text/plain": [
       "1.5762506907214981"
      ]
     },
     "execution_count": 100,
     "metadata": {},
     "output_type": "execute_result"
    }
   ],
   "source": [
    "np.std(f_0)"
   ]
  },
  {
   "cell_type": "code",
   "execution_count": 99,
   "metadata": {
    "collapsed": false
   },
   "outputs": [
    {
     "data": {
      "text/plain": [
       "13.887600000000001"
      ]
     },
     "execution_count": 99,
     "metadata": {},
     "output_type": "execute_result"
    }
   ],
   "source": [
    "np.mean(f_0)"
   ]
  },
  {
   "cell_type": "markdown",
   "metadata": {},
   "source": [
    "Generate a bunch of sphere polytopes in $\\mathbb R^4$:"
   ]
  },
  {
   "cell_type": "code",
   "execution_count": 252,
   "metadata": {
    "collapsed": false
   },
   "outputs": [],
   "source": [
    "plh = random_polytope(n = 4, p = 100)"
   ]
  },
  {
   "cell_type": "code",
   "execution_count": 253,
   "metadata": {
    "collapsed": false
   },
   "outputs": [
    {
     "data": {
      "text/plain": [
       "A 4-dimensional polyhedron in RDF^4 defined as the convex hull of 54 vertices (use the .plot() method to plot)"
      ]
     },
     "execution_count": 253,
     "metadata": {},
     "output_type": "execute_result"
    }
   ],
   "source": [
    "plh"
   ]
  },
  {
   "cell_type": "code",
   "execution_count": 264,
   "metadata": {
    "collapsed": false
   },
   "outputs": [
    {
     "data": {
      "text/html": [
       "\n",
       "<iframe srcdoc=\"\n",
       "<html>\n",
       "<head>\n",
       "  <style>\n",
       "    * {\n",
       "      margin: 0;\n",
       "      padding: 0;\n",
       "      overflow: hidden;\n",
       "    }\n",
       "    body, html {      \n",
       "      height: 100%;\n",
       "      width: 100%;\n",
       "    }\n",
       "  </style>\n",
       "  <script type=&quot;text/javascript&quot; src=&quot;/nbextensions/jsmol/JSmol.min.js&quot;></script>\n",
       "</head>\n",
       "<body>\n",
       "  <script type=&quot;text/javascript&quot;>\n",
       "    var script = [\n",
       "  'data &quot;model list&quot;',\n",
       "  '10',\n",
       "  'empty',\n",
       "  'Xx -3.0 -4.0 -3.0',\n",
       "  'Xx 0.0 -4.0 -3.0',\n",
       "  'Xx 3.0 -4.0 -3.0',\n",
       "  'Xx 4.0 -3.0 -3.0',\n",
       "  'Xx 4.0 0.0 -3.0',\n",
       "  'Xx 4.0 3.0 -3.0',\n",
       "  'Xx -4.0 -3.0 -3.0',\n",
       "  'Xx -4.0 -3.0 0.0',\n",
       "  'Xx -4.0 -3.0 3.0',\n",
       "  'Xx 5.5 5.5 5.5',\n",
       "  'end &quot;model list&quot;; show data',\n",
       "  'select *',\n",
       "  'wireframe off; spacefill off',\n",
       "  'set labelOffset 0 0',\n",
       "  'background [255,255,255]',\n",
       "  'spin OFF',\n",
       "  'moveto 0 -764 -346 -545 76.39',\n",
       "  'centerAt absolute {0 0 0}',\n",
       "  'zoom 100',\n",
       "  'frank OFF',\n",
       "  'set perspectivedepth ON',\n",
       "  'draw point_1 DIAMETER 5 {-0.726174787155 1.85191110799 -1.10552928028}',\n",
       "  'color $point_1  [0,0,255]',\n",
       "  'draw point_2 DIAMETER 5 {-2.92993366386 -0.715205304482 0.607930585019}',\n",
       "  'color $point_2  [0,0,255]',\n",
       "  'draw point_3 DIAMETER 5 {0.103643605191 1.04239925128 -0.506963844938}',\n",
       "  'color $point_3  [0,0,255]',\n",
       "  'draw point_4 DIAMETER 5 {-2.37632951522 2.06956872311 0.549029468673}',\n",
       "  'color $point_4  [0,0,255]',\n",
       "  'draw point_5 DIAMETER 5 {-0.128191464507 0.247498615872 -0.635439007289}',\n",
       "  'color $point_5  [0,0,255]',\n",
       "  'draw point_6 DIAMETER 5 {-0.808973744379 0.343304874768 -0.693179647283}',\n",
       "  'color $point_6  [0,0,255]',\n",
       "  'draw point_7 DIAMETER 5 {-1.52108074931 -0.232975763309 -0.876953887044}',\n",
       "  'color $point_7  [0,0,255]',\n",
       "  'draw point_8 DIAMETER 5 {3.0 1.63854234242 -0.995363979058}',\n",
       "  'color $point_8  [0,0,255]',\n",
       "  'draw point_9 DIAMETER 5 {1.42084583238 -2.23528337055 1.84701775946}',\n",
       "  'color $point_9  [0,0,255]',\n",
       "  'draw point_10 DIAMETER 5 {-1.32148399579 -0.21094564075 -0.678972237359}',\n",
       "  'color $point_10  [0,0,255]',\n",
       "  'draw point_11 DIAMETER 5 {-1.46427144847 -0.489096646604 1.78267998049}',\n",
       "  'color $point_11  [0,0,255]',\n",
       "  'draw point_12 DIAMETER 5 {-0.9894232665 -0.603305648743 0.554000004334}',\n",
       "  'color $point_12  [0,0,255]',\n",
       "  'draw point_13 DIAMETER 5 {0.337575689491 1.03613282219 0.349115992458}',\n",
       "  'color $point_13  [0,0,255]',\n",
       "  'draw point_14 DIAMETER 5 {1.1275476761 -1.1923913146 1.90880441461}',\n",
       "  'color $point_14  [0,0,255]',\n",
       "  'draw point_15 DIAMETER 5 {-0.257578142342 0.73307125481 1.24346812592}',\n",
       "  'color $point_15  [0,0,255]',\n",
       "  'draw point_16 DIAMETER 5 {0.439779608609 1.32917472185 1.13609035124}',\n",
       "  'color $point_16  [0,0,255]',\n",
       "  'draw point_17 DIAMETER 5 {-0.605117628068 0.918228626396 0.887150292927}',\n",
       "  'color $point_17  [0,0,255]',\n",
       "  'draw point_18 DIAMETER 5 {-0.311019548419 -2.01455282611 2.41193635756}',\n",
       "  'color $point_18  [0,0,255]',\n",
       "  'draw point_19 DIAMETER 5 {-0.785918887627 0.901377320025 -0.271103487108}',\n",
       "  'color $point_19  [0,0,255]',\n",
       "  'draw point_20 DIAMETER 5 {1.10094575014 1.32804267303 3.0}',\n",
       "  'color $point_20  [0,0,255]',\n",
       "  'draw point_21 DIAMETER 5 {1.27074553173 1.63193193398 1.50570937052}',\n",
       "  'color $point_21  [0,0,255]',\n",
       "  'draw point_22 DIAMETER 5 {0.0254051850372 -0.143842696258 -0.160087782257}',\n",
       "  'color $point_22  [0,0,255]',\n",
       "  'draw point_23 DIAMETER 5 {-3.0 1.1128543451 -0.0497782323332}',\n",
       "  'color $point_23  [0,0,255]',\n",
       "  'draw point_24 DIAMETER 5 {-2.42514556972 -1.29549163009 2.3945509383}',\n",
       "  'color $point_24  [0,0,255]',\n",
       "  'draw point_25 DIAMETER 5 {0.574989881826 1.32702059766 -1.16920964784}',\n",
       "  'color $point_25  [0,0,255]',\n",
       "  'draw point_26 DIAMETER 5 {1.29901550648 -0.499537556277 -2.10387186896}',\n",
       "  'color $point_26  [0,0,255]',\n",
       "  'draw point_27 DIAMETER 5 {-1.18855842006 2.96898288078 -0.772766425109}',\n",
       "  'color $point_27  [0,0,255]',\n",
       "  'draw point_28 DIAMETER 5 {0.284192553704 -0.360306811175 -0.667969821203}',\n",
       "  'color $point_28  [0,0,255]',\n",
       "  'draw point_29 DIAMETER 5 {-0.250379486172 0.598627631982 1.24917482548}',\n",
       "  'color $point_29  [0,0,255]',\n",
       "  'draw point_30 DIAMETER 5 {2.06622135166 -0.810836840388 2.21441428032}',\n",
       "  'color $point_30  [0,0,255]',\n",
       "  'draw point_31 DIAMETER 5 {0.5257930021 0.909209581407 1.15490062562}',\n",
       "  'color $point_31  [0,0,255]',\n",
       "  'draw point_32 DIAMETER 5 {1.09301736101 1.41196774394 -2.09946168471}',\n",
       "  'color $point_32  [0,0,255]',\n",
       "  'draw point_33 DIAMETER 5 {-1.49106870174 -0.197278927085 -1.94258388273}',\n",
       "  'color $point_33  [0,0,255]',\n",
       "  'draw point_34 DIAMETER 5 {0.380875256202 0.916270385097 0.522215927893}',\n",
       "  'color $point_34  [0,0,255]',\n",
       "  'draw point_35 DIAMETER 5 {-0.869021567585 1.81413461016 1.99130611231}',\n",
       "  'color $point_35  [0,0,255]',\n",
       "  'draw point_36 DIAMETER 5 {0.0757407926933 -0.346869465502 0.669303714462}',\n",
       "  'color $point_36  [0,0,255]',\n",
       "  'draw point_37 DIAMETER 5 {0.990062457462 0.836152265889 1.5893784102}',\n",
       "  'color $point_37  [0,0,255]',\n",
       "  'draw point_38 DIAMETER 5 {0.40096318165 -0.767187401994 1.4197453088}',\n",
       "  'color $point_38  [0,0,255]',\n",
       "  'draw point_39 DIAMETER 5 {0.788080683621 -0.0115169975537 1.23022309453}',\n",
       "  'color $point_39  [0,0,255]',\n",
       "  'draw point_40 DIAMETER 5 {0.496546510918 0.306819721563 -0.101797166126}',\n",
       "  'color $point_40  [0,0,255]',\n",
       "  'draw point_41 DIAMETER 5 {0.338434470613 0.281158171819 0.324711654502}',\n",
       "  'color $point_41  [0,0,255]',\n",
       "  'draw point_42 DIAMETER 5 {0.109378300354 3.0 1.29403767058}',\n",
       "  'color $point_42  [0,0,255]',\n",
       "  'draw point_43 DIAMETER 5 {0.400206594329 0.960794427216 0.913642089251}',\n",
       "  'color $point_43  [0,0,255]',\n",
       "  'draw point_44 DIAMETER 5 {1.19013705683 1.65472214736 -0.944984526865}',\n",
       "  'color $point_44  [0,0,255]',\n",
       "  'draw point_45 DIAMETER 5 {0.648770828732 -0.0809640994908 0.029770166326}',\n",
       "  'color $point_45  [0,0,255]',\n",
       "  'draw point_46 DIAMETER 5 {0.569235353125 -3.0 -0.0205748706185}',\n",
       "  'color $point_46  [0,0,255]',\n",
       "  'draw point_47 DIAMETER 5 {-0.95591674543 1.42484782073 0.577315052311}',\n",
       "  'color $point_47  [0,0,255]',\n",
       "  'draw point_48 DIAMETER 5 {2.5056055841 2.60264307033 1.61191363088}',\n",
       "  'color $point_48  [0,0,255]',\n",
       "  'draw point_49 DIAMETER 5 {0.462806417532 1.67987602995 0.539864928032}',\n",
       "  'color $point_49  [0,0,255]',\n",
       "  'draw point_50 DIAMETER 5 {-1.50127184524 1.46618025675 -0.406631964443}',\n",
       "  'color $point_50  [0,0,255]',\n",
       "  'draw point_51 DIAMETER 5 {-1.5038020369 1.56104660249 2.31548585114}',\n",
       "  'color $point_51  [0,0,255]',\n",
       "  'draw point_52 DIAMETER 5 {-2.61615176812 0.963459927817 -3.0}',\n",
       "  'color $point_52  [0,0,255]',\n",
       "  'draw point_53 DIAMETER 5 {-0.72607208185 -0.770864003332 -1.1561121631}',\n",
       "  'color $point_53  [0,0,255]',\n",
       "  'draw point_54 DIAMETER 5 {-0.321621956302 -0.00855368681899 -0.0569939466244}',\n",
       "  'color $point_54  [0,0,255]',\n",
       "  'draw line_55 diameter 1 curve {-0.726174787155 1.85191110799 -1.10552928028}  {0.103643605191 1.04239925128 -0.506963844938} ',\n",
       "  'color $line_55  [0,0,255]',\n",
       "  'draw line_56 diameter 1 curve {-0.726174787155 1.85191110799 -1.10552928028}  {-0.128191464507 0.247498615872 -0.635439007289} ',\n",
       "  'color $line_56  [0,0,255]',\n",
       "  'draw line_57 diameter 1 curve {-0.726174787155 1.85191110799 -1.10552928028}  {-0.808973744379 0.343304874768 -0.693179647283} ',\n",
       "  'color $line_57  [0,0,255]',\n",
       "  'draw line_58 diameter 1 curve {-0.726174787155 1.85191110799 -1.10552928028}  {-1.52108074931 -0.232975763309 -0.876953887044} ',\n",
       "  'color $line_58  [0,0,255]',\n",
       "  'draw line_59 diameter 1 curve {-0.726174787155 1.85191110799 -1.10552928028}  {0.337575689491 1.03613282219 0.349115992458} ',\n",
       "  'color $line_59  [0,0,255]',\n",
       "  'draw line_60 diameter 1 curve {-0.726174787155 1.85191110799 -1.10552928028}  {-0.785918887627 0.901377320025 -0.271103487108} ',\n",
       "  'color $line_60  [0,0,255]',\n",
       "  'draw line_61 diameter 1 curve {-0.726174787155 1.85191110799 -1.10552928028}  {1.27074553173 1.63193193398 1.50570937052} ',\n",
       "  'color $line_61  [0,0,255]',\n",
       "  'draw line_62 diameter 1 curve {-0.726174787155 1.85191110799 -1.10552928028}  {-3.0 1.1128543451 -0.0497782323332} ',\n",
       "  'color $line_62  [0,0,255]',\n",
       "  'draw line_63 diameter 1 curve {-0.726174787155 1.85191110799 -1.10552928028}  {0.574989881826 1.32702059766 -1.16920964784} ',\n",
       "  'color $line_63  [0,0,255]',\n",
       "  'draw line_64 diameter 1 curve {-0.726174787155 1.85191110799 -1.10552928028}  {1.29901550648 -0.499537556277 -2.10387186896} ',\n",
       "  'color $line_64  [0,0,255]',\n",
       "  'draw line_65 diameter 1 curve {-0.726174787155 1.85191110799 -1.10552928028}  {-1.18855842006 2.96898288078 -0.772766425109} ',\n",
       "  'color $line_65  [0,0,255]',\n",
       "  'draw line_66 diameter 1 curve {-0.726174787155 1.85191110799 -1.10552928028}  {0.284192553704 -0.360306811175 -0.667969821203} ',\n",
       "  'color $line_66  [0,0,255]',\n",
       "  'draw line_67 diameter 1 curve {-0.726174787155 1.85191110799 -1.10552928028}  {1.09301736101 1.41196774394 -2.09946168471} ',\n",
       "  'color $line_67  [0,0,255]',\n",
       "  'draw line_68 diameter 1 curve {-0.726174787155 1.85191110799 -1.10552928028}  {-1.49106870174 -0.197278927085 -1.94258388273} ',\n",
       "  'color $line_68  [0,0,255]',\n",
       "  'draw line_69 diameter 1 curve {-0.726174787155 1.85191110799 -1.10552928028}  {-0.869021567585 1.81413461016 1.99130611231} ',\n",
       "  'color $line_69  [0,0,255]',\n",
       "  'draw line_70 diameter 1 curve {-0.726174787155 1.85191110799 -1.10552928028}  {0.109378300354 3.0 1.29403767058} ',\n",
       "  'color $line_70  [0,0,255]',\n",
       "  'draw line_71 diameter 1 curve {-0.726174787155 1.85191110799 -1.10552928028}  {1.19013705683 1.65472214736 -0.944984526865} ',\n",
       "  'color $line_71  [0,0,255]',\n",
       "  'draw line_72 diameter 1 curve {-0.726174787155 1.85191110799 -1.10552928028}  {-0.95591674543 1.42484782073 0.577315052311} ',\n",
       "  'color $line_72  [0,0,255]',\n",
       "  'draw line_73 diameter 1 curve {-0.726174787155 1.85191110799 -1.10552928028}  {0.462806417532 1.67987602995 0.539864928032} ',\n",
       "  'color $line_73  [0,0,255]',\n",
       "  'draw line_74 diameter 1 curve {-0.726174787155 1.85191110799 -1.10552928028}  {-1.50127184524 1.46618025675 -0.406631964443} ',\n",
       "  'color $line_74  [0,0,255]',\n",
       "  'draw line_75 diameter 1 curve {-0.726174787155 1.85191110799 -1.10552928028}  {-2.61615176812 0.963459927817 -3.0} ',\n",
       "  'color $line_75  [0,0,255]',\n",
       "  'draw line_76 diameter 1 curve {-2.92993366386 -0.715205304482 0.607930585019}  {-1.52108074931 -0.232975763309 -0.876953887044} ',\n",
       "  'color $line_76  [0,0,255]',\n",
       "  'draw line_77 diameter 1 curve {-2.92993366386 -0.715205304482 0.607930585019}  {-1.46427144847 -0.489096646604 1.78267998049} ',\n",
       "  'color $line_77  [0,0,255]',\n",
       "  'draw line_78 diameter 1 curve {-2.92993366386 -0.715205304482 0.607930585019}  {-0.311019548419 -2.01455282611 2.41193635756} ',\n",
       "  'color $line_78  [0,0,255]',\n",
       "  'draw line_79 diameter 1 curve {-2.92993366386 -0.715205304482 0.607930585019}  {-3.0 1.1128543451 -0.0497782323332} ',\n",
       "  'color $line_79  [0,0,255]',\n",
       "  'draw line_80 diameter 1 curve {-2.92993366386 -0.715205304482 0.607930585019}  {-2.42514556972 -1.29549163009 2.3945509383} ',\n",
       "  'color $line_80  [0,0,255]',\n",
       "  'draw line_81 diameter 1 curve {-2.92993366386 -0.715205304482 0.607930585019}  {0.569235353125 -3.0 -0.0205748706185} ',\n",
       "  'color $line_81  [0,0,255]',\n",
       "  'draw line_82 diameter 1 curve {0.103643605191 1.04239925128 -0.506963844938}  {-0.128191464507 0.247498615872 -0.635439007289} ',\n",
       "  'color $line_82  [0,0,255]',\n",
       "  'draw line_83 diameter 1 curve {0.103643605191 1.04239925128 -0.506963844938}  {0.337575689491 1.03613282219 0.349115992458} ',\n",
       "  'color $line_83  [0,0,255]',\n",
       "  'draw line_84 diameter 1 curve {0.103643605191 1.04239925128 -0.506963844938}  {-0.785918887627 0.901377320025 -0.271103487108} ',\n",
       "  'color $line_84  [0,0,255]',\n",
       "  'draw line_85 diameter 1 curve {0.103643605191 1.04239925128 -0.506963844938}  {0.574989881826 1.32702059766 -1.16920964784} ',\n",
       "  'color $line_85  [0,0,255]',\n",
       "  'draw line_86 diameter 1 curve {0.103643605191 1.04239925128 -0.506963844938}  {0.284192553704 -0.360306811175 -0.667969821203} ',\n",
       "  'color $line_86  [0,0,255]',\n",
       "  'draw line_87 diameter 1 curve {0.103643605191 1.04239925128 -0.506963844938}  {0.380875256202 0.916270385097 0.522215927893} ',\n",
       "  'color $line_87  [0,0,255]',\n",
       "  'draw line_88 diameter 1 curve {0.103643605191 1.04239925128 -0.506963844938}  {0.496546510918 0.306819721563 -0.101797166126} ',\n",
       "  'color $line_88  [0,0,255]',\n",
       "  'draw line_89 diameter 1 curve {-2.37632951522 2.06956872311 0.549029468673}  {-3.0 1.1128543451 -0.0497782323332} ',\n",
       "  'color $line_89  [0,0,255]',\n",
       "  'draw line_90 diameter 1 curve {-2.37632951522 2.06956872311 0.549029468673}  {-1.18855842006 2.96898288078 -0.772766425109} ',\n",
       "  'color $line_90  [0,0,255]',\n",
       "  'draw line_91 diameter 1 curve {-2.37632951522 2.06956872311 0.549029468673}  {-0.869021567585 1.81413461016 1.99130611231} ',\n",
       "  'color $line_91  [0,0,255]',\n",
       "  'draw line_92 diameter 1 curve {-2.37632951522 2.06956872311 0.549029468673}  {-1.50127184524 1.46618025675 -0.406631964443} ',\n",
       "  'color $line_92  [0,0,255]',\n",
       "  'draw line_93 diameter 1 curve {-2.37632951522 2.06956872311 0.549029468673}  {-1.5038020369 1.56104660249 2.31548585114} ',\n",
       "  'color $line_93  [0,0,255]',\n",
       "  'draw line_94 diameter 1 curve {-0.128191464507 0.247498615872 -0.635439007289}  {-0.808973744379 0.343304874768 -0.693179647283} ',\n",
       "  'color $line_94  [0,0,255]',\n",
       "  'draw line_95 diameter 1 curve {-0.128191464507 0.247498615872 -0.635439007289}  {-1.32148399579 -0.21094564075 -0.678972237359} ',\n",
       "  'color $line_95  [0,0,255]',\n",
       "  'draw line_96 diameter 1 curve {-0.128191464507 0.247498615872 -0.635439007289}  {-0.785918887627 0.901377320025 -0.271103487108} ',\n",
       "  'color $line_96  [0,0,255]',\n",
       "  'draw line_97 diameter 1 curve {-0.128191464507 0.247498615872 -0.635439007289}  {0.574989881826 1.32702059766 -1.16920964784} ',\n",
       "  'color $line_97  [0,0,255]',\n",
       "  'draw line_98 diameter 1 curve {-0.128191464507 0.247498615872 -0.635439007289}  {0.284192553704 -0.360306811175 -0.667969821203} ',\n",
       "  'color $line_98  [0,0,255]',\n",
       "  'draw line_99 diameter 1 curve {-0.128191464507 0.247498615872 -0.635439007289}  {-1.49106870174 -0.197278927085 -1.94258388273} ',\n",
       "  'color $line_99  [0,0,255]',\n",
       "  'draw line_100 diameter 1 curve {-0.128191464507 0.247498615872 -0.635439007289}  {0.380875256202 0.916270385097 0.522215927893} ',\n",
       "  'color $line_100  [0,0,255]',\n",
       "  'draw line_101 diameter 1 curve {-0.128191464507 0.247498615872 -0.635439007289}  {0.338434470613 0.281158171819 0.324711654502} ',\n",
       "  'color $line_101  [0,0,255]',\n",
       "  'draw line_102 diameter 1 curve {-0.128191464507 0.247498615872 -0.635439007289}  {-0.321621956302 -0.00855368681899 -0.0569939466244} ',\n",
       "  'color $line_102  [0,0,255]',\n",
       "  'draw line_103 diameter 1 curve {-0.808973744379 0.343304874768 -0.693179647283}  {-1.52108074931 -0.232975763309 -0.876953887044} ',\n",
       "  'color $line_103  [0,0,255]',\n",
       "  'draw line_104 diameter 1 curve {-0.808973744379 0.343304874768 -0.693179647283}  {-1.32148399579 -0.21094564075 -0.678972237359} ',\n",
       "  'color $line_104  [0,0,255]',\n",
       "  'draw line_105 diameter 1 curve {-0.808973744379 0.343304874768 -0.693179647283}  {-0.785918887627 0.901377320025 -0.271103487108} ',\n",
       "  'color $line_105  [0,0,255]',\n",
       "  'draw line_106 diameter 1 curve {-0.808973744379 0.343304874768 -0.693179647283}  {0.284192553704 -0.360306811175 -0.667969821203} ',\n",
       "  'color $line_106  [0,0,255]',\n",
       "  'draw line_107 diameter 1 curve {-0.808973744379 0.343304874768 -0.693179647283}  {-1.49106870174 -0.197278927085 -1.94258388273} ',\n",
       "  'color $line_107  [0,0,255]',\n",
       "  'draw line_108 diameter 1 curve {-0.808973744379 0.343304874768 -0.693179647283}  {-0.72607208185 -0.770864003332 -1.1561121631} ',\n",
       "  'color $line_108  [0,0,255]',\n",
       "  'draw line_109 diameter 1 curve {-0.808973744379 0.343304874768 -0.693179647283}  {-0.321621956302 -0.00855368681899 -0.0569939466244} ',\n",
       "  'color $line_109  [0,0,255]',\n",
       "  'draw line_110 diameter 1 curve {-1.52108074931 -0.232975763309 -0.876953887044}  {-1.32148399579 -0.21094564075 -0.678972237359} ',\n",
       "  'color $line_110  [0,0,255]',\n",
       "  'draw line_111 diameter 1 curve {-1.52108074931 -0.232975763309 -0.876953887044}  {-1.46427144847 -0.489096646604 1.78267998049} ',\n",
       "  'color $line_111  [0,0,255]',\n",
       "  'draw line_112 diameter 1 curve {-1.52108074931 -0.232975763309 -0.876953887044}  {-0.311019548419 -2.01455282611 2.41193635756} ',\n",
       "  'color $line_112  [0,0,255]',\n",
       "  'draw line_113 diameter 1 curve {-1.52108074931 -0.232975763309 -0.876953887044}  {-0.785918887627 0.901377320025 -0.271103487108} ',\n",
       "  'color $line_113  [0,0,255]',\n",
       "  'draw line_114 diameter 1 curve {-1.52108074931 -0.232975763309 -0.876953887044}  {-3.0 1.1128543451 -0.0497782323332} ',\n",
       "  'color $line_114  [0,0,255]',\n",
       "  'draw line_115 diameter 1 curve {-1.52108074931 -0.232975763309 -0.876953887044}  {0.284192553704 -0.360306811175 -0.667969821203} ',\n",
       "  'color $line_115  [0,0,255]',\n",
       "  'draw line_116 diameter 1 curve {-1.52108074931 -0.232975763309 -0.876953887044}  {-1.49106870174 -0.197278927085 -1.94258388273} ',\n",
       "  'color $line_116  [0,0,255]',\n",
       "  'draw line_117 diameter 1 curve {-1.52108074931 -0.232975763309 -0.876953887044}  {0.569235353125 -3.0 -0.0205748706185} ',\n",
       "  'color $line_117  [0,0,255]',\n",
       "  'draw line_118 diameter 1 curve {-1.52108074931 -0.232975763309 -0.876953887044}  {-1.50127184524 1.46618025675 -0.406631964443} ',\n",
       "  'color $line_118  [0,0,255]',\n",
       "  'draw line_119 diameter 1 curve {-1.52108074931 -0.232975763309 -0.876953887044}  {-0.72607208185 -0.770864003332 -1.1561121631} ',\n",
       "  'color $line_119  [0,0,255]',\n",
       "  'draw line_120 diameter 1 curve {3.0 1.63854234242 -0.995363979058}  {1.42084583238 -2.23528337055 1.84701775946} ',\n",
       "  'color $line_120  [0,0,255]',\n",
       "  'draw line_121 diameter 1 curve {3.0 1.63854234242 -0.995363979058}  {1.10094575014 1.32804267303 3.0} ',\n",
       "  'color $line_121  [0,0,255]',\n",
       "  'draw line_122 diameter 1 curve {3.0 1.63854234242 -0.995363979058}  {1.27074553173 1.63193193398 1.50570937052} ',\n",
       "  'color $line_122  [0,0,255]',\n",
       "  'draw line_123 diameter 1 curve {3.0 1.63854234242 -0.995363979058}  {1.29901550648 -0.499537556277 -2.10387186896} ',\n",
       "  'color $line_123  [0,0,255]',\n",
       "  'draw line_124 diameter 1 curve {3.0 1.63854234242 -0.995363979058}  {-1.18855842006 2.96898288078 -0.772766425109} ',\n",
       "  'color $line_124  [0,0,255]',\n",
       "  'draw line_125 diameter 1 curve {3.0 1.63854234242 -0.995363979058}  {2.06622135166 -0.810836840388 2.21441428032} ',\n",
       "  'color $line_125  [0,0,255]',\n",
       "  'draw line_126 diameter 1 curve {3.0 1.63854234242 -0.995363979058}  {1.09301736101 1.41196774394 -2.09946168471} ',\n",
       "  'color $line_126  [0,0,255]',\n",
       "  'draw line_127 diameter 1 curve {3.0 1.63854234242 -0.995363979058}  {1.19013705683 1.65472214736 -0.944984526865} ',\n",
       "  'color $line_127  [0,0,255]',\n",
       "  'draw line_128 diameter 1 curve {3.0 1.63854234242 -0.995363979058}  {0.569235353125 -3.0 -0.0205748706185} ',\n",
       "  'color $line_128  [0,0,255]',\n",
       "  'draw line_129 diameter 1 curve {3.0 1.63854234242 -0.995363979058}  {2.5056055841 2.60264307033 1.61191363088} ',\n",
       "  'color $line_129  [0,0,255]',\n",
       "  'draw line_130 diameter 1 curve {3.0 1.63854234242 -0.995363979058}  {-2.61615176812 0.963459927817 -3.0} ',\n",
       "  'color $line_130  [0,0,255]',\n",
       "  'draw line_131 diameter 1 curve {1.42084583238 -2.23528337055 1.84701775946}  {1.1275476761 -1.1923913146 1.90880441461} ',\n",
       "  'color $line_131  [0,0,255]',\n",
       "  'draw line_132 diameter 1 curve {1.42084583238 -2.23528337055 1.84701775946}  {-0.311019548419 -2.01455282611 2.41193635756} ',\n",
       "  'color $line_132  [0,0,255]',\n",
       "  'draw line_133 diameter 1 curve {1.42084583238 -2.23528337055 1.84701775946}  {1.10094575014 1.32804267303 3.0} ',\n",
       "  'color $line_133  [0,0,255]',\n",
       "  'draw line_134 diameter 1 curve {1.42084583238 -2.23528337055 1.84701775946}  {1.27074553173 1.63193193398 1.50570937052} ',\n",
       "  'color $line_134  [0,0,255]',\n",
       "  'draw line_135 diameter 1 curve {1.42084583238 -2.23528337055 1.84701775946}  {-3.0 1.1128543451 -0.0497782323332} ',\n",
       "  'color $line_135  [0,0,255]',\n",
       "  'draw line_136 diameter 1 curve {1.42084583238 -2.23528337055 1.84701775946}  {-2.42514556972 -1.29549163009 2.3945509383} ',\n",
       "  'color $line_136  [0,0,255]',\n",
       "  'draw line_137 diameter 1 curve {1.42084583238 -2.23528337055 1.84701775946}  {1.29901550648 -0.499537556277 -2.10387186896} ',\n",
       "  'color $line_137  [0,0,255]',\n",
       "  'draw line_138 diameter 1 curve {1.42084583238 -2.23528337055 1.84701775946}  {0.284192553704 -0.360306811175 -0.667969821203} ',\n",
       "  'color $line_138  [0,0,255]',\n",
       "  'draw line_139 diameter 1 curve {1.42084583238 -2.23528337055 1.84701775946}  {2.06622135166 -0.810836840388 2.21441428032} ',\n",
       "  'color $line_139  [0,0,255]',\n",
       "  'draw line_140 diameter 1 curve {1.42084583238 -2.23528337055 1.84701775946}  {0.990062457462 0.836152265889 1.5893784102} ',\n",
       "  'color $line_140  [0,0,255]',\n",
       "  'draw line_141 diameter 1 curve {1.42084583238 -2.23528337055 1.84701775946}  {0.40096318165 -0.767187401994 1.4197453088} ',\n",
       "  'color $line_141  [0,0,255]',\n",
       "  'draw line_142 diameter 1 curve {1.42084583238 -2.23528337055 1.84701775946}  {0.569235353125 -3.0 -0.0205748706185} ',\n",
       "  'color $line_142  [0,0,255]',\n",
       "  'draw line_143 diameter 1 curve {1.42084583238 -2.23528337055 1.84701775946}  {2.5056055841 2.60264307033 1.61191363088} ',\n",
       "  'color $line_143  [0,0,255]',\n",
       "  'draw line_144 diameter 1 curve {1.42084583238 -2.23528337055 1.84701775946}  {-2.61615176812 0.963459927817 -3.0} ',\n",
       "  'color $line_144  [0,0,255]',\n",
       "  'draw line_145 diameter 1 curve {-1.32148399579 -0.21094564075 -0.678972237359}  {-1.46427144847 -0.489096646604 1.78267998049} ',\n",
       "  'color $line_145  [0,0,255]',\n",
       "  'draw line_146 diameter 1 curve {-1.32148399579 -0.21094564075 -0.678972237359}  {-0.9894232665 -0.603305648743 0.554000004334} ',\n",
       "  'color $line_146  [0,0,255]',\n",
       "  'draw line_147 diameter 1 curve {-1.32148399579 -0.21094564075 -0.678972237359}  {-0.311019548419 -2.01455282611 2.41193635756} ',\n",
       "  'color $line_147  [0,0,255]',\n",
       "  'draw line_148 diameter 1 curve {-1.32148399579 -0.21094564075 -0.678972237359}  {-0.785918887627 0.901377320025 -0.271103487108} ',\n",
       "  'color $line_148  [0,0,255]',\n",
       "  'draw line_149 diameter 1 curve {-1.32148399579 -0.21094564075 -0.678972237359}  {-3.0 1.1128543451 -0.0497782323332} ',\n",
       "  'color $line_149  [0,0,255]',\n",
       "  'draw line_150 diameter 1 curve {-1.32148399579 -0.21094564075 -0.678972237359}  {0.284192553704 -0.360306811175 -0.667969821203} ',\n",
       "  'color $line_150  [0,0,255]',\n",
       "  'draw line_151 diameter 1 curve {-1.32148399579 -0.21094564075 -0.678972237359}  {-1.50127184524 1.46618025675 -0.406631964443} ',\n",
       "  'color $line_151  [0,0,255]',\n",
       "  'draw line_152 diameter 1 curve {-1.32148399579 -0.21094564075 -0.678972237359}  {-0.72607208185 -0.770864003332 -1.1561121631} ',\n",
       "  'color $line_152  [0,0,255]',\n",
       "  'draw line_153 diameter 1 curve {-1.32148399579 -0.21094564075 -0.678972237359}  {-0.321621956302 -0.00855368681899 -0.0569939466244} ',\n",
       "  'color $line_153  [0,0,255]',\n",
       "  'draw line_154 diameter 1 curve {-1.46427144847 -0.489096646604 1.78267998049}  {-0.9894232665 -0.603305648743 0.554000004334} ',\n",
       "  'color $line_154  [0,0,255]',\n",
       "  'draw line_155 diameter 1 curve {-1.46427144847 -0.489096646604 1.78267998049}  {-0.257578142342 0.73307125481 1.24346812592} ',\n",
       "  'color $line_155  [0,0,255]',\n",
       "  'draw line_156 diameter 1 curve {-1.46427144847 -0.489096646604 1.78267998049}  {-0.605117628068 0.918228626396 0.887150292927} ',\n",
       "  'color $line_156  [0,0,255]',\n",
       "  'draw line_157 diameter 1 curve {-1.46427144847 -0.489096646604 1.78267998049}  {-0.311019548419 -2.01455282611 2.41193635756} ',\n",
       "  'color $line_157  [0,0,255]',\n",
       "  'draw line_158 diameter 1 curve {-1.46427144847 -0.489096646604 1.78267998049}  {-0.785918887627 0.901377320025 -0.271103487108} ',\n",
       "  'color $line_158  [0,0,255]',\n",
       "  'draw line_159 diameter 1 curve {-1.46427144847 -0.489096646604 1.78267998049}  {1.10094575014 1.32804267303 3.0} ',\n",
       "  'color $line_159  [0,0,255]',\n",
       "  'draw line_160 diameter 1 curve {-1.46427144847 -0.489096646604 1.78267998049}  {-3.0 1.1128543451 -0.0497782323332} ',\n",
       "  'color $line_160  [0,0,255]',\n",
       "  'draw line_161 diameter 1 curve {-1.46427144847 -0.489096646604 1.78267998049}  {-2.42514556972 -1.29549163009 2.3945509383} ',\n",
       "  'color $line_161  [0,0,255]',\n",
       "  'draw line_162 diameter 1 curve {-1.46427144847 -0.489096646604 1.78267998049}  {-0.250379486172 0.598627631982 1.24917482548} ',\n",
       "  'color $line_162  [0,0,255]',\n",
       "  'draw line_163 diameter 1 curve {-1.46427144847 -0.489096646604 1.78267998049}  {0.5257930021 0.909209581407 1.15490062562} ',\n",
       "  'color $line_163  [0,0,255]',\n",
       "  'draw line_164 diameter 1 curve {-1.46427144847 -0.489096646604 1.78267998049}  {-0.869021567585 1.81413461016 1.99130611231} ',\n",
       "  'color $line_164  [0,0,255]',\n",
       "  'draw line_165 diameter 1 curve {-1.46427144847 -0.489096646604 1.78267998049}  {0.0757407926933 -0.346869465502 0.669303714462} ',\n",
       "  'color $line_165  [0,0,255]',\n",
       "  'draw line_166 diameter 1 curve {-1.46427144847 -0.489096646604 1.78267998049}  {0.40096318165 -0.767187401994 1.4197453088} ',\n",
       "  'color $line_166  [0,0,255]',\n",
       "  'draw line_167 diameter 1 curve {-1.46427144847 -0.489096646604 1.78267998049}  {-0.95591674543 1.42484782073 0.577315052311} ',\n",
       "  'color $line_167  [0,0,255]',\n",
       "  'draw line_168 diameter 1 curve {-1.46427144847 -0.489096646604 1.78267998049}  {-1.50127184524 1.46618025675 -0.406631964443} ',\n",
       "  'color $line_168  [0,0,255]',\n",
       "  'draw line_169 diameter 1 curve {-1.46427144847 -0.489096646604 1.78267998049}  {-1.5038020369 1.56104660249 2.31548585114} ',\n",
       "  'color $line_169  [0,0,255]',\n",
       "  'draw line_170 diameter 1 curve {-0.9894232665 -0.603305648743 0.554000004334}  {-0.605117628068 0.918228626396 0.887150292927} ',\n",
       "  'color $line_170  [0,0,255]',\n",
       "  'draw line_171 diameter 1 curve {-0.9894232665 -0.603305648743 0.554000004334}  {-0.311019548419 -2.01455282611 2.41193635756} ',\n",
       "  'color $line_171  [0,0,255]',\n",
       "  'draw line_172 diameter 1 curve {-0.9894232665 -0.603305648743 0.554000004334}  {-0.785918887627 0.901377320025 -0.271103487108} ',\n",
       "  'color $line_172  [0,0,255]',\n",
       "  'draw line_173 diameter 1 curve {-0.9894232665 -0.603305648743 0.554000004334}  {0.284192553704 -0.360306811175 -0.667969821203} ',\n",
       "  'color $line_173  [0,0,255]',\n",
       "  'draw line_174 diameter 1 curve {-0.9894232665 -0.603305648743 0.554000004334}  {-0.250379486172 0.598627631982 1.24917482548} ',\n",
       "  'color $line_174  [0,0,255]',\n",
       "  'draw line_175 diameter 1 curve {-0.9894232665 -0.603305648743 0.554000004334}  {0.0757407926933 -0.346869465502 0.669303714462} ',\n",
       "  'color $line_175  [0,0,255]',\n",
       "  'draw line_176 diameter 1 curve {-0.9894232665 -0.603305648743 0.554000004334}  {0.40096318165 -0.767187401994 1.4197453088} ',\n",
       "  'color $line_176  [0,0,255]',\n",
       "  'draw line_177 diameter 1 curve {-0.9894232665 -0.603305648743 0.554000004334}  {-0.72607208185 -0.770864003332 -1.1561121631} ',\n",
       "  'color $line_177  [0,0,255]',\n",
       "  'draw line_178 diameter 1 curve {-0.9894232665 -0.603305648743 0.554000004334}  {-0.321621956302 -0.00855368681899 -0.0569939466244} ',\n",
       "  'color $line_178  [0,0,255]',\n",
       "  'draw line_179 diameter 1 curve {0.337575689491 1.03613282219 0.349115992458}  {0.439779608609 1.32917472185 1.13609035124} ',\n",
       "  'color $line_179  [0,0,255]',\n",
       "  'draw line_180 diameter 1 curve {0.337575689491 1.03613282219 0.349115992458}  {-0.605117628068 0.918228626396 0.887150292927} ',\n",
       "  'color $line_180  [0,0,255]',\n",
       "  'draw line_181 diameter 1 curve {0.337575689491 1.03613282219 0.349115992458}  {-0.785918887627 0.901377320025 -0.271103487108} ',\n",
       "  'color $line_181  [0,0,255]',\n",
       "  'draw line_182 diameter 1 curve {0.337575689491 1.03613282219 0.349115992458}  {1.27074553173 1.63193193398 1.50570937052} ',\n",
       "  'color $line_182  [0,0,255]',\n",
       "  'draw line_183 diameter 1 curve {0.337575689491 1.03613282219 0.349115992458}  {0.574989881826 1.32702059766 -1.16920964784} ',\n",
       "  'color $line_183  [0,0,255]',\n",
       "  'draw line_184 diameter 1 curve {0.337575689491 1.03613282219 0.349115992458}  {0.380875256202 0.916270385097 0.522215927893} ',\n",
       "  'color $line_184  [0,0,255]',\n",
       "  'draw line_185 diameter 1 curve {0.337575689491 1.03613282219 0.349115992458}  {0.400206594329 0.960794427216 0.913642089251} ',\n",
       "  'color $line_185  [0,0,255]',\n",
       "  'draw line_186 diameter 1 curve {0.337575689491 1.03613282219 0.349115992458}  {1.19013705683 1.65472214736 -0.944984526865} ',\n",
       "  'color $line_186  [0,0,255]',\n",
       "  'draw line_187 diameter 1 curve {0.337575689491 1.03613282219 0.349115992458}  {-0.95591674543 1.42484782073 0.577315052311} ',\n",
       "  'color $line_187  [0,0,255]',\n",
       "  'draw line_188 diameter 1 curve {0.337575689491 1.03613282219 0.349115992458}  {0.462806417532 1.67987602995 0.539864928032} ',\n",
       "  'color $line_188  [0,0,255]',\n",
       "  'draw line_189 diameter 1 curve {1.1275476761 -1.1923913146 1.90880441461}  {-0.311019548419 -2.01455282611 2.41193635756} ',\n",
       "  'color $line_189  [0,0,255]',\n",
       "  'draw line_190 diameter 1 curve {1.1275476761 -1.1923913146 1.90880441461}  {1.10094575014 1.32804267303 3.0} ',\n",
       "  'color $line_190  [0,0,255]',\n",
       "  'draw line_191 diameter 1 curve {1.1275476761 -1.1923913146 1.90880441461}  {1.29901550648 -0.499537556277 -2.10387186896} ',\n",
       "  'color $line_191  [0,0,255]',\n",
       "  'draw line_192 diameter 1 curve {1.1275476761 -1.1923913146 1.90880441461}  {0.284192553704 -0.360306811175 -0.667969821203} ',\n",
       "  'color $line_192  [0,0,255]',\n",
       "  'draw line_193 diameter 1 curve {1.1275476761 -1.1923913146 1.90880441461}  {2.06622135166 -0.810836840388 2.21441428032} ',\n",
       "  'color $line_193  [0,0,255]',\n",
       "  'draw line_194 diameter 1 curve {1.1275476761 -1.1923913146 1.90880441461}  {0.990062457462 0.836152265889 1.5893784102} ',\n",
       "  'color $line_194  [0,0,255]',\n",
       "  'draw line_195 diameter 1 curve {1.1275476761 -1.1923913146 1.90880441461}  {0.40096318165 -0.767187401994 1.4197453088} ',\n",
       "  'color $line_195  [0,0,255]',\n",
       "  'draw line_196 diameter 1 curve {1.1275476761 -1.1923913146 1.90880441461}  {0.788080683621 -0.0115169975537 1.23022309453} ',\n",
       "  'color $line_196  [0,0,255]',\n",
       "  'draw line_197 diameter 1 curve {-0.257578142342 0.73307125481 1.24346812592}  {-0.605117628068 0.918228626396 0.887150292927} ',\n",
       "  'color $line_197  [0,0,255]',\n",
       "  'draw line_198 diameter 1 curve {-0.257578142342 0.73307125481 1.24346812592}  {-0.250379486172 0.598627631982 1.24917482548} ',\n",
       "  'color $line_198  [0,0,255]',\n",
       "  'draw line_199 diameter 1 curve {-0.257578142342 0.73307125481 1.24346812592}  {0.5257930021 0.909209581407 1.15490062562} ',\n",
       "  'color $line_199  [0,0,255]',\n",
       "  'draw line_200 diameter 1 curve {-0.257578142342 0.73307125481 1.24346812592}  {-0.869021567585 1.81413461016 1.99130611231} ',\n",
       "  'color $line_200  [0,0,255]',\n",
       "  'draw line_201 diameter 1 curve {-0.257578142342 0.73307125481 1.24346812592}  {0.400206594329 0.960794427216 0.913642089251} ',\n",
       "  'color $line_201  [0,0,255]',\n",
       "  'draw line_202 diameter 1 curve {0.439779608609 1.32917472185 1.13609035124}  {1.27074553173 1.63193193398 1.50570937052} ',\n",
       "  'color $line_202  [0,0,255]',\n",
       "  'draw line_203 diameter 1 curve {0.439779608609 1.32917472185 1.13609035124}  {0.5257930021 0.909209581407 1.15490062562} ',\n",
       "  'color $line_203  [0,0,255]',\n",
       "  'draw line_204 diameter 1 curve {0.439779608609 1.32917472185 1.13609035124}  {-0.869021567585 1.81413461016 1.99130611231} ',\n",
       "  'color $line_204  [0,0,255]',\n",
       "  'draw line_205 diameter 1 curve {0.439779608609 1.32917472185 1.13609035124}  {0.109378300354 3.0 1.29403767058} ',\n",
       "  'color $line_205  [0,0,255]',\n",
       "  'draw line_206 diameter 1 curve {0.439779608609 1.32917472185 1.13609035124}  {0.400206594329 0.960794427216 0.913642089251} ',\n",
       "  'color $line_206  [0,0,255]',\n",
       "  'draw line_207 diameter 1 curve {0.439779608609 1.32917472185 1.13609035124}  {-0.95591674543 1.42484782073 0.577315052311} ',\n",
       "  'color $line_207  [0,0,255]',\n",
       "  'draw line_208 diameter 1 curve {0.439779608609 1.32917472185 1.13609035124}  {0.462806417532 1.67987602995 0.539864928032} ',\n",
       "  'color $line_208  [0,0,255]',\n",
       "  'draw line_209 diameter 1 curve {-0.605117628068 0.918228626396 0.887150292927}  {-0.785918887627 0.901377320025 -0.271103487108} ',\n",
       "  'color $line_209  [0,0,255]',\n",
       "  'draw line_210 diameter 1 curve {-0.605117628068 0.918228626396 0.887150292927}  {-0.250379486172 0.598627631982 1.24917482548} ',\n",
       "  'color $line_210  [0,0,255]',\n",
       "  'draw line_211 diameter 1 curve {-0.605117628068 0.918228626396 0.887150292927}  {0.380875256202 0.916270385097 0.522215927893} ',\n",
       "  'color $line_211  [0,0,255]',\n",
       "  'draw line_212 diameter 1 curve {-0.605117628068 0.918228626396 0.887150292927}  {-0.869021567585 1.81413461016 1.99130611231} ',\n",
       "  'color $line_212  [0,0,255]',\n",
       "  'draw line_213 diameter 1 curve {-0.605117628068 0.918228626396 0.887150292927}  {0.0757407926933 -0.346869465502 0.669303714462} ',\n",
       "  'color $line_213  [0,0,255]',\n",
       "  'draw line_214 diameter 1 curve {-0.605117628068 0.918228626396 0.887150292927}  {0.338434470613 0.281158171819 0.324711654502} ',\n",
       "  'color $line_214  [0,0,255]',\n",
       "  'draw line_215 diameter 1 curve {-0.605117628068 0.918228626396 0.887150292927}  {0.400206594329 0.960794427216 0.913642089251} ',\n",
       "  'color $line_215  [0,0,255]',\n",
       "  'draw line_216 diameter 1 curve {-0.605117628068 0.918228626396 0.887150292927}  {-0.95591674543 1.42484782073 0.577315052311} ',\n",
       "  'color $line_216  [0,0,255]',\n",
       "  'draw line_217 diameter 1 curve {-0.605117628068 0.918228626396 0.887150292927}  {-1.5038020369 1.56104660249 2.31548585114} ',\n",
       "  'color $line_217  [0,0,255]',\n",
       "  'draw line_218 diameter 1 curve {-0.605117628068 0.918228626396 0.887150292927}  {-0.321621956302 -0.00855368681899 -0.0569939466244} ',\n",
       "  'color $line_218  [0,0,255]',\n",
       "  'draw line_219 diameter 1 curve {-0.311019548419 -2.01455282611 2.41193635756}  {1.10094575014 1.32804267303 3.0} ',\n",
       "  'color $line_219  [0,0,255]',\n",
       "  'draw line_220 diameter 1 curve {-0.311019548419 -2.01455282611 2.41193635756}  {-2.42514556972 -1.29549163009 2.3945509383} ',\n",
       "  'color $line_220  [0,0,255]',\n",
       "  'draw line_221 diameter 1 curve {-0.311019548419 -2.01455282611 2.41193635756}  {0.284192553704 -0.360306811175 -0.667969821203} ',\n",
       "  'color $line_221  [0,0,255]',\n",
       "  'draw line_222 diameter 1 curve {-0.311019548419 -2.01455282611 2.41193635756}  {0.40096318165 -0.767187401994 1.4197453088} ',\n",
       "  'color $line_222  [0,0,255]',\n",
       "  'draw line_223 diameter 1 curve {-0.311019548419 -2.01455282611 2.41193635756}  {0.569235353125 -3.0 -0.0205748706185} ',\n",
       "  'color $line_223  [0,0,255]',\n",
       "  'draw line_224 diameter 1 curve {-0.311019548419 -2.01455282611 2.41193635756}  {-1.5038020369 1.56104660249 2.31548585114} ',\n",
       "  'color $line_224  [0,0,255]',\n",
       "  'draw line_225 diameter 1 curve {-0.311019548419 -2.01455282611 2.41193635756}  {-0.72607208185 -0.770864003332 -1.1561121631} ',\n",
       "  'color $line_225  [0,0,255]',\n",
       "  'draw line_226 diameter 1 curve {-0.785918887627 0.901377320025 -0.271103487108}  {0.380875256202 0.916270385097 0.522215927893} ',\n",
       "  'color $line_226  [0,0,255]',\n",
       "  'draw line_227 diameter 1 curve {-0.785918887627 0.901377320025 -0.271103487108}  {0.338434470613 0.281158171819 0.324711654502} ',\n",
       "  'color $line_227  [0,0,255]',\n",
       "  'draw line_228 diameter 1 curve {-0.785918887627 0.901377320025 -0.271103487108}  {-0.95591674543 1.42484782073 0.577315052311} ',\n",
       "  'color $line_228  [0,0,255]',\n",
       "  'draw line_229 diameter 1 curve {-0.785918887627 0.901377320025 -0.271103487108}  {-1.50127184524 1.46618025675 -0.406631964443} ',\n",
       "  'color $line_229  [0,0,255]',\n",
       "  'draw line_230 diameter 1 curve {-0.785918887627 0.901377320025 -0.271103487108}  {-0.321621956302 -0.00855368681899 -0.0569939466244} ',\n",
       "  'color $line_230  [0,0,255]',\n",
       "  'draw line_231 diameter 1 curve {1.10094575014 1.32804267303 3.0}  {1.27074553173 1.63193193398 1.50570937052} ',\n",
       "  'color $line_231  [0,0,255]',\n",
       "  'draw line_232 diameter 1 curve {1.10094575014 1.32804267303 3.0}  {-3.0 1.1128543451 -0.0497782323332} ',\n",
       "  'color $line_232  [0,0,255]',\n",
       "  'draw line_233 diameter 1 curve {1.10094575014 1.32804267303 3.0}  {-2.42514556972 -1.29549163009 2.3945509383} ',\n",
       "  'color $line_233  [0,0,255]',\n",
       "  'draw line_234 diameter 1 curve {1.10094575014 1.32804267303 3.0}  {-1.18855842006 2.96898288078 -0.772766425109} ',\n",
       "  'color $line_234  [0,0,255]',\n",
       "  'draw line_235 diameter 1 curve {1.10094575014 1.32804267303 3.0}  {2.06622135166 -0.810836840388 2.21441428032} ',\n",
       "  'color $line_235  [0,0,255]',\n",
       "  'draw line_236 diameter 1 curve {1.10094575014 1.32804267303 3.0}  {0.5257930021 0.909209581407 1.15490062562} ',\n",
       "  'color $line_236  [0,0,255]',\n",
       "  'draw line_237 diameter 1 curve {1.10094575014 1.32804267303 3.0}  {-0.869021567585 1.81413461016 1.99130611231} ',\n",
       "  'color $line_237  [0,0,255]',\n",
       "  'draw line_238 diameter 1 curve {1.10094575014 1.32804267303 3.0}  {0.990062457462 0.836152265889 1.5893784102} ',\n",
       "  'color $line_238  [0,0,255]',\n",
       "  'draw line_239 diameter 1 curve {1.10094575014 1.32804267303 3.0}  {0.40096318165 -0.767187401994 1.4197453088} ',\n",
       "  'color $line_239  [0,0,255]',\n",
       "  'draw line_240 diameter 1 curve {1.10094575014 1.32804267303 3.0}  {0.109378300354 3.0 1.29403767058} ',\n",
       "  'color $line_240  [0,0,255]',\n",
       "  'draw line_241 diameter 1 curve {1.10094575014 1.32804267303 3.0}  {2.5056055841 2.60264307033 1.61191363088} ',\n",
       "  'color $line_241  [0,0,255]',\n",
       "  'draw line_242 diameter 1 curve {1.10094575014 1.32804267303 3.0}  {-1.5038020369 1.56104660249 2.31548585114} ',\n",
       "  'color $line_242  [0,0,255]',\n",
       "  'draw line_243 diameter 1 curve {1.27074553173 1.63193193398 1.50570937052}  {1.29901550648 -0.499537556277 -2.10387186896} ',\n",
       "  'color $line_243  [0,0,255]',\n",
       "  'draw line_244 diameter 1 curve {1.27074553173 1.63193193398 1.50570937052}  {-1.18855842006 2.96898288078 -0.772766425109} ',\n",
       "  'color $line_244  [0,0,255]',\n",
       "  'draw line_245 diameter 1 curve {1.27074553173 1.63193193398 1.50570937052}  {2.06622135166 -0.810836840388 2.21441428032} ',\n",
       "  'color $line_245  [0,0,255]',\n",
       "  'draw line_246 diameter 1 curve {1.27074553173 1.63193193398 1.50570937052}  {0.5257930021 0.909209581407 1.15490062562} ',\n",
       "  'color $line_246  [0,0,255]',\n",
       "  'draw line_247 diameter 1 curve {1.27074553173 1.63193193398 1.50570937052}  {0.380875256202 0.916270385097 0.522215927893} ',\n",
       "  'color $line_247  [0,0,255]',\n",
       "  'draw line_248 diameter 1 curve {1.27074553173 1.63193193398 1.50570937052}  {-0.869021567585 1.81413461016 1.99130611231} ',\n",
       "  'color $line_248  [0,0,255]',\n",
       "  'draw line_249 diameter 1 curve {1.27074553173 1.63193193398 1.50570937052}  {0.990062457462 0.836152265889 1.5893784102} ',\n",
       "  'color $line_249  [0,0,255]',\n",
       "  'draw line_250 diameter 1 curve {1.27074553173 1.63193193398 1.50570937052}  {0.109378300354 3.0 1.29403767058} ',\n",
       "  'color $line_250  [0,0,255]',\n",
       "  'draw line_251 diameter 1 curve {1.27074553173 1.63193193398 1.50570937052}  {0.400206594329 0.960794427216 0.913642089251} ',\n",
       "  'color $line_251  [0,0,255]',\n",
       "  'draw line_252 diameter 1 curve {1.27074553173 1.63193193398 1.50570937052}  {1.19013705683 1.65472214736 -0.944984526865} ',\n",
       "  'color $line_252  [0,0,255]',\n",
       "  'draw line_253 diameter 1 curve {1.27074553173 1.63193193398 1.50570937052}  {2.5056055841 2.60264307033 1.61191363088} ',\n",
       "  'color $line_253  [0,0,255]',\n",
       "  'draw line_254 diameter 1 curve {1.27074553173 1.63193193398 1.50570937052}  {0.462806417532 1.67987602995 0.539864928032} ',\n",
       "  'color $line_254  [0,0,255]',\n",
       "  'draw line_255 diameter 1 curve {0.0254051850372 -0.143842696258 -0.160087782257}  {0.284192553704 -0.360306811175 -0.667969821203} ',\n",
       "  'color $line_255  [0,0,255]',\n",
       "  'draw line_256 diameter 1 curve {0.0254051850372 -0.143842696258 -0.160087782257}  {0.0757407926933 -0.346869465502 0.669303714462} ',\n",
       "  'color $line_256  [0,0,255]',\n",
       "  'draw line_257 diameter 1 curve {0.0254051850372 -0.143842696258 -0.160087782257}  {0.338434470613 0.281158171819 0.324711654502} ',\n",
       "  'color $line_257  [0,0,255]',\n",
       "  'draw line_258 diameter 1 curve {0.0254051850372 -0.143842696258 -0.160087782257}  {-0.321621956302 -0.00855368681899 -0.0569939466244} ',\n",
       "  'color $line_258  [0,0,255]',\n",
       "  'draw line_259 diameter 1 curve {-3.0 1.1128543451 -0.0497782323332}  {-2.42514556972 -1.29549163009 2.3945509383} ',\n",
       "  'color $line_259  [0,0,255]',\n",
       "  'draw line_260 diameter 1 curve {-3.0 1.1128543451 -0.0497782323332}  {-1.18855842006 2.96898288078 -0.772766425109} ',\n",
       "  'color $line_260  [0,0,255]',\n",
       "  'draw line_261 diameter 1 curve {-3.0 1.1128543451 -0.0497782323332}  {-1.49106870174 -0.197278927085 -1.94258388273} ',\n",
       "  'color $line_261  [0,0,255]',\n",
       "  'draw line_262 diameter 1 curve {-3.0 1.1128543451 -0.0497782323332}  {0.569235353125 -3.0 -0.0205748706185} ',\n",
       "  'color $line_262  [0,0,255]',\n",
       "  'draw line_263 diameter 1 curve {-3.0 1.1128543451 -0.0497782323332}  {2.5056055841 2.60264307033 1.61191363088} ',\n",
       "  'color $line_263  [0,0,255]',\n",
       "  'draw line_264 diameter 1 curve {-3.0 1.1128543451 -0.0497782323332}  {-1.50127184524 1.46618025675 -0.406631964443} ',\n",
       "  'color $line_264  [0,0,255]',\n",
       "  'draw line_265 diameter 1 curve {-3.0 1.1128543451 -0.0497782323332}  {-1.5038020369 1.56104660249 2.31548585114} ',\n",
       "  'color $line_265  [0,0,255]',\n",
       "  'draw line_266 diameter 1 curve {-3.0 1.1128543451 -0.0497782323332}  {-2.61615176812 0.963459927817 -3.0} ',\n",
       "  'color $line_266  [0,0,255]',\n",
       "  'draw line_267 diameter 1 curve {-2.42514556972 -1.29549163009 2.3945509383}  {0.569235353125 -3.0 -0.0205748706185} ',\n",
       "  'color $line_267  [0,0,255]',\n",
       "  'draw line_268 diameter 1 curve {-2.42514556972 -1.29549163009 2.3945509383}  {2.5056055841 2.60264307033 1.61191363088} ',\n",
       "  'color $line_268  [0,0,255]',\n",
       "  'draw line_269 diameter 1 curve {-2.42514556972 -1.29549163009 2.3945509383}  {-1.5038020369 1.56104660249 2.31548585114} ',\n",
       "  'color $line_269  [0,0,255]',\n",
       "  'draw line_270 diameter 1 curve {0.574989881826 1.32702059766 -1.16920964784}  {1.29901550648 -0.499537556277 -2.10387186896} ',\n",
       "  'color $line_270  [0,0,255]',\n",
       "  'draw line_271 diameter 1 curve {0.574989881826 1.32702059766 -1.16920964784}  {0.284192553704 -0.360306811175 -0.667969821203} ',\n",
       "  'color $line_271  [0,0,255]',\n",
       "  'draw line_272 diameter 1 curve {0.574989881826 1.32702059766 -1.16920964784}  {1.09301736101 1.41196774394 -2.09946168471} ',\n",
       "  'color $line_272  [0,0,255]',\n",
       "  'draw line_273 diameter 1 curve {0.574989881826 1.32702059766 -1.16920964784}  {0.380875256202 0.916270385097 0.522215927893} ',\n",
       "  'color $line_273  [0,0,255]',\n",
       "  'draw line_274 diameter 1 curve {0.574989881826 1.32702059766 -1.16920964784}  {0.496546510918 0.306819721563 -0.101797166126} ',\n",
       "  'color $line_274  [0,0,255]',\n",
       "  'draw line_275 diameter 1 curve {0.574989881826 1.32702059766 -1.16920964784}  {1.19013705683 1.65472214736 -0.944984526865} ',\n",
       "  'color $line_275  [0,0,255]',\n",
       "  'draw line_276 diameter 1 curve {0.574989881826 1.32702059766 -1.16920964784}  {0.462806417532 1.67987602995 0.539864928032} ',\n",
       "  'color $line_276  [0,0,255]',\n",
       "  'draw line_277 diameter 1 curve {1.29901550648 -0.499537556277 -2.10387186896}  {0.284192553704 -0.360306811175 -0.667969821203} ',\n",
       "  'color $line_277  [0,0,255]',\n",
       "  'draw line_278 diameter 1 curve {1.29901550648 -0.499537556277 -2.10387186896}  {2.06622135166 -0.810836840388 2.21441428032} ',\n",
       "  'color $line_278  [0,0,255]',\n",
       "  'draw line_279 diameter 1 curve {1.29901550648 -0.499537556277 -2.10387186896}  {1.09301736101 1.41196774394 -2.09946168471} ',\n",
       "  'color $line_279  [0,0,255]',\n",
       "  'draw line_280 diameter 1 curve {1.29901550648 -0.499537556277 -2.10387186896}  {-1.49106870174 -0.197278927085 -1.94258388273} ',\n",
       "  'color $line_280  [0,0,255]',\n",
       "  'draw line_281 diameter 1 curve {1.29901550648 -0.499537556277 -2.10387186896}  {0.990062457462 0.836152265889 1.5893784102} ',\n",
       "  'color $line_281  [0,0,255]',\n",
       "  'draw line_282 diameter 1 curve {1.29901550648 -0.499537556277 -2.10387186896}  {0.788080683621 -0.0115169975537 1.23022309453} ',\n",
       "  'color $line_282  [0,0,255]',\n",
       "  'draw line_283 diameter 1 curve {1.29901550648 -0.499537556277 -2.10387186896}  {0.496546510918 0.306819721563 -0.101797166126} ',\n",
       "  'color $line_283  [0,0,255]',\n",
       "  'draw line_284 diameter 1 curve {1.29901550648 -0.499537556277 -2.10387186896}  {1.19013705683 1.65472214736 -0.944984526865} ',\n",
       "  'color $line_284  [0,0,255]',\n",
       "  'draw line_285 diameter 1 curve {1.29901550648 -0.499537556277 -2.10387186896}  {0.569235353125 -3.0 -0.0205748706185} ',\n",
       "  'color $line_285  [0,0,255]',\n",
       "  'draw line_286 diameter 1 curve {1.29901550648 -0.499537556277 -2.10387186896}  {-2.61615176812 0.963459927817 -3.0} ',\n",
       "  'color $line_286  [0,0,255]',\n",
       "  'draw line_287 diameter 1 curve {1.29901550648 -0.499537556277 -2.10387186896}  {-0.72607208185 -0.770864003332 -1.1561121631} ',\n",
       "  'color $line_287  [0,0,255]',\n",
       "  'draw line_288 diameter 1 curve {-1.18855842006 2.96898288078 -0.772766425109}  {1.09301736101 1.41196774394 -2.09946168471} ',\n",
       "  'color $line_288  [0,0,255]',\n",
       "  'draw line_289 diameter 1 curve {-1.18855842006 2.96898288078 -0.772766425109}  {-0.869021567585 1.81413461016 1.99130611231} ',\n",
       "  'color $line_289  [0,0,255]',\n",
       "  'draw line_290 diameter 1 curve {-1.18855842006 2.96898288078 -0.772766425109}  {0.109378300354 3.0 1.29403767058} ',\n",
       "  'color $line_290  [0,0,255]',\n",
       "  'draw line_291 diameter 1 curve {-1.18855842006 2.96898288078 -0.772766425109}  {1.19013705683 1.65472214736 -0.944984526865} ',\n",
       "  'color $line_291  [0,0,255]',\n",
       "  'draw line_292 diameter 1 curve {-1.18855842006 2.96898288078 -0.772766425109}  {2.5056055841 2.60264307033 1.61191363088} ',\n",
       "  'color $line_292  [0,0,255]',\n",
       "  'draw line_293 diameter 1 curve {-1.18855842006 2.96898288078 -0.772766425109}  {-1.50127184524 1.46618025675 -0.406631964443} ',\n",
       "  'color $line_293  [0,0,255]',\n",
       "  'draw line_294 diameter 1 curve {-1.18855842006 2.96898288078 -0.772766425109}  {-1.5038020369 1.56104660249 2.31548585114} ',\n",
       "  'color $line_294  [0,0,255]',\n",
       "  'draw line_295 diameter 1 curve {-1.18855842006 2.96898288078 -0.772766425109}  {-2.61615176812 0.963459927817 -3.0} ',\n",
       "  'color $line_295  [0,0,255]',\n",
       "  'draw line_296 diameter 1 curve {0.284192553704 -0.360306811175 -0.667969821203}  {-1.49106870174 -0.197278927085 -1.94258388273} ',\n",
       "  'color $line_296  [0,0,255]',\n",
       "  'draw line_297 diameter 1 curve {0.284192553704 -0.360306811175 -0.667969821203}  {0.380875256202 0.916270385097 0.522215927893} ',\n",
       "  'color $line_297  [0,0,255]',\n",
       "  'draw line_298 diameter 1 curve {0.284192553704 -0.360306811175 -0.667969821203}  {0.0757407926933 -0.346869465502 0.669303714462} ',\n",
       "  'color $line_298  [0,0,255]',\n",
       "  'draw line_299 diameter 1 curve {0.284192553704 -0.360306811175 -0.667969821203}  {0.990062457462 0.836152265889 1.5893784102} ',\n",
       "  'color $line_299  [0,0,255]',\n",
       "  'draw line_300 diameter 1 curve {0.284192553704 -0.360306811175 -0.667969821203}  {0.40096318165 -0.767187401994 1.4197453088} ',\n",
       "  'color $line_300  [0,0,255]',\n",
       "  'draw line_301 diameter 1 curve {0.284192553704 -0.360306811175 -0.667969821203}  {0.788080683621 -0.0115169975537 1.23022309453} ',\n",
       "  'color $line_301  [0,0,255]',\n",
       "  'draw line_302 diameter 1 curve {0.284192553704 -0.360306811175 -0.667969821203}  {0.496546510918 0.306819721563 -0.101797166126} ',\n",
       "  'color $line_302  [0,0,255]',\n",
       "  'draw line_303 diameter 1 curve {0.284192553704 -0.360306811175 -0.667969821203}  {0.338434470613 0.281158171819 0.324711654502} ',\n",
       "  'color $line_303  [0,0,255]',\n",
       "  'draw line_304 diameter 1 curve {0.284192553704 -0.360306811175 -0.667969821203}  {1.19013705683 1.65472214736 -0.944984526865} ',\n",
       "  'color $line_304  [0,0,255]',\n",
       "  'draw line_305 diameter 1 curve {0.284192553704 -0.360306811175 -0.667969821203}  {0.648770828732 -0.0809640994908 0.029770166326} ',\n",
       "  'color $line_305  [0,0,255]',\n",
       "  'draw line_306 diameter 1 curve {0.284192553704 -0.360306811175 -0.667969821203}  {0.569235353125 -3.0 -0.0205748706185} ',\n",
       "  'color $line_306  [0,0,255]',\n",
       "  'draw line_307 diameter 1 curve {0.284192553704 -0.360306811175 -0.667969821203}  {-0.72607208185 -0.770864003332 -1.1561121631} ',\n",
       "  'color $line_307  [0,0,255]',\n",
       "  'draw line_308 diameter 1 curve {0.284192553704 -0.360306811175 -0.667969821203}  {-0.321621956302 -0.00855368681899 -0.0569939466244} ',\n",
       "  'color $line_308  [0,0,255]',\n",
       "  'draw line_309 diameter 1 curve {-0.250379486172 0.598627631982 1.24917482548}  {0.5257930021 0.909209581407 1.15490062562} ',\n",
       "  'color $line_309  [0,0,255]',\n",
       "  'draw line_310 diameter 1 curve {-0.250379486172 0.598627631982 1.24917482548}  {-0.869021567585 1.81413461016 1.99130611231} ',\n",
       "  'color $line_310  [0,0,255]',\n",
       "  'draw line_311 diameter 1 curve {-0.250379486172 0.598627631982 1.24917482548}  {0.0757407926933 -0.346869465502 0.669303714462} ',\n",
       "  'color $line_311  [0,0,255]',\n",
       "  'draw line_312 diameter 1 curve {-0.250379486172 0.598627631982 1.24917482548}  {0.40096318165 -0.767187401994 1.4197453088} ',\n",
       "  'color $line_312  [0,0,255]',\n",
       "  'draw line_313 diameter 1 curve {-0.250379486172 0.598627631982 1.24917482548}  {0.338434470613 0.281158171819 0.324711654502} ',\n",
       "  'color $line_313  [0,0,255]',\n",
       "  'draw line_314 diameter 1 curve {-0.250379486172 0.598627631982 1.24917482548}  {0.400206594329 0.960794427216 0.913642089251} ',\n",
       "  'color $line_314  [0,0,255]',\n",
       "  'draw line_315 diameter 1 curve {2.06622135166 -0.810836840388 2.21441428032}  {0.990062457462 0.836152265889 1.5893784102} ',\n",
       "  'color $line_315  [0,0,255]',\n",
       "  'draw line_316 diameter 1 curve {0.5257930021 0.909209581407 1.15490062562}  {-0.869021567585 1.81413461016 1.99130611231} ',\n",
       "  'color $line_316  [0,0,255]',\n",
       "  'draw line_317 diameter 1 curve {0.5257930021 0.909209581407 1.15490062562}  {0.990062457462 0.836152265889 1.5893784102} ',\n",
       "  'color $line_317  [0,0,255]',\n",
       "  'draw line_318 diameter 1 curve {0.5257930021 0.909209581407 1.15490062562}  {0.40096318165 -0.767187401994 1.4197453088} ',\n",
       "  'color $line_318  [0,0,255]',\n",
       "  'draw line_319 diameter 1 curve {0.5257930021 0.909209581407 1.15490062562}  {0.788080683621 -0.0115169975537 1.23022309453} ',\n",
       "  'color $line_319  [0,0,255]',\n",
       "  'draw line_320 diameter 1 curve {0.5257930021 0.909209581407 1.15490062562}  {0.338434470613 0.281158171819 0.324711654502} ',\n",
       "  'color $line_320  [0,0,255]',\n",
       "  'draw line_321 diameter 1 curve {0.5257930021 0.909209581407 1.15490062562}  {0.400206594329 0.960794427216 0.913642089251} ',\n",
       "  'color $line_321  [0,0,255]',\n",
       "  'draw line_322 diameter 1 curve {1.09301736101 1.41196774394 -2.09946168471}  {1.19013705683 1.65472214736 -0.944984526865} ',\n",
       "  'color $line_322  [0,0,255]',\n",
       "  'draw line_323 diameter 1 curve {1.09301736101 1.41196774394 -2.09946168471}  {-2.61615176812 0.963459927817 -3.0} ',\n",
       "  'color $line_323  [0,0,255]',\n",
       "  'draw line_324 diameter 1 curve {-1.49106870174 -0.197278927085 -1.94258388273}  {0.569235353125 -3.0 -0.0205748706185} ',\n",
       "  'color $line_324  [0,0,255]',\n",
       "  'draw line_325 diameter 1 curve {-1.49106870174 -0.197278927085 -1.94258388273}  {-2.61615176812 0.963459927817 -3.0} ',\n",
       "  'color $line_325  [0,0,255]',\n",
       "  'draw line_326 diameter 1 curve {-1.49106870174 -0.197278927085 -1.94258388273}  {-0.72607208185 -0.770864003332 -1.1561121631} ',\n",
       "  'color $line_326  [0,0,255]',\n",
       "  'draw line_327 diameter 1 curve {0.380875256202 0.916270385097 0.522215927893}  {0.990062457462 0.836152265889 1.5893784102} ',\n",
       "  'color $line_327  [0,0,255]',\n",
       "  'draw line_328 diameter 1 curve {0.380875256202 0.916270385097 0.522215927893}  {0.496546510918 0.306819721563 -0.101797166126} ',\n",
       "  'color $line_328  [0,0,255]',\n",
       "  'draw line_329 diameter 1 curve {0.380875256202 0.916270385097 0.522215927893}  {0.338434470613 0.281158171819 0.324711654502} ',\n",
       "  'color $line_329  [0,0,255]',\n",
       "  'draw line_330 diameter 1 curve {0.380875256202 0.916270385097 0.522215927893}  {0.400206594329 0.960794427216 0.913642089251} ',\n",
       "  'color $line_330  [0,0,255]',\n",
       "  'draw line_331 diameter 1 curve {0.380875256202 0.916270385097 0.522215927893}  {1.19013705683 1.65472214736 -0.944984526865} ',\n",
       "  'color $line_331  [0,0,255]',\n",
       "  'draw line_332 diameter 1 curve {0.380875256202 0.916270385097 0.522215927893}  {0.648770828732 -0.0809640994908 0.029770166326} ',\n",
       "  'color $line_332  [0,0,255]',\n",
       "  'draw line_333 diameter 1 curve {-0.869021567585 1.81413461016 1.99130611231}  {0.109378300354 3.0 1.29403767058} ',\n",
       "  'color $line_333  [0,0,255]',\n",
       "  'draw line_334 diameter 1 curve {-0.869021567585 1.81413461016 1.99130611231}  {0.400206594329 0.960794427216 0.913642089251} ',\n",
       "  'color $line_334  [0,0,255]',\n",
       "  'draw line_335 diameter 1 curve {-0.869021567585 1.81413461016 1.99130611231}  {-0.95591674543 1.42484782073 0.577315052311} ',\n",
       "  'color $line_335  [0,0,255]',\n",
       "  'draw line_336 diameter 1 curve {-0.869021567585 1.81413461016 1.99130611231}  {0.462806417532 1.67987602995 0.539864928032} ',\n",
       "  'color $line_336  [0,0,255]',\n",
       "  'draw line_337 diameter 1 curve {-0.869021567585 1.81413461016 1.99130611231}  {-1.50127184524 1.46618025675 -0.406631964443} ',\n",
       "  'color $line_337  [0,0,255]',\n",
       "  'draw line_338 diameter 1 curve {-0.869021567585 1.81413461016 1.99130611231}  {-1.5038020369 1.56104660249 2.31548585114} ',\n",
       "  'color $line_338  [0,0,255]',\n",
       "  'draw line_339 diameter 1 curve {0.0757407926933 -0.346869465502 0.669303714462}  {0.40096318165 -0.767187401994 1.4197453088} ',\n",
       "  'color $line_339  [0,0,255]',\n",
       "  'draw line_340 diameter 1 curve {0.0757407926933 -0.346869465502 0.669303714462}  {0.338434470613 0.281158171819 0.324711654502} ',\n",
       "  'color $line_340  [0,0,255]',\n",
       "  'draw line_341 diameter 1 curve {0.0757407926933 -0.346869465502 0.669303714462}  {0.400206594329 0.960794427216 0.913642089251} ',\n",
       "  'color $line_341  [0,0,255]',\n",
       "  'draw line_342 diameter 1 curve {0.0757407926933 -0.346869465502 0.669303714462}  {-0.321621956302 -0.00855368681899 -0.0569939466244} ',\n",
       "  'color $line_342  [0,0,255]',\n",
       "  'draw line_343 diameter 1 curve {0.990062457462 0.836152265889 1.5893784102}  {0.40096318165 -0.767187401994 1.4197453088} ',\n",
       "  'color $line_343  [0,0,255]',\n",
       "  'draw line_344 diameter 1 curve {0.990062457462 0.836152265889 1.5893784102}  {0.788080683621 -0.0115169975537 1.23022309453} ',\n",
       "  'color $line_344  [0,0,255]',\n",
       "  'draw line_345 diameter 1 curve {0.990062457462 0.836152265889 1.5893784102}  {0.496546510918 0.306819721563 -0.101797166126} ',\n",
       "  'color $line_345  [0,0,255]',\n",
       "  'draw line_346 diameter 1 curve {0.990062457462 0.836152265889 1.5893784102}  {0.338434470613 0.281158171819 0.324711654502} ',\n",
       "  'color $line_346  [0,0,255]',\n",
       "  'draw line_347 diameter 1 curve {0.990062457462 0.836152265889 1.5893784102}  {0.400206594329 0.960794427216 0.913642089251} ',\n",
       "  'color $line_347  [0,0,255]',\n",
       "  'draw line_348 diameter 1 curve {0.990062457462 0.836152265889 1.5893784102}  {1.19013705683 1.65472214736 -0.944984526865} ',\n",
       "  'color $line_348  [0,0,255]',\n",
       "  'draw line_349 diameter 1 curve {0.990062457462 0.836152265889 1.5893784102}  {0.648770828732 -0.0809640994908 0.029770166326} ',\n",
       "  'color $line_349  [0,0,255]',\n",
       "  'draw line_350 diameter 1 curve {0.40096318165 -0.767187401994 1.4197453088}  {0.788080683621 -0.0115169975537 1.23022309453} ',\n",
       "  'color $line_350  [0,0,255]',\n",
       "  'draw line_351 diameter 1 curve {0.40096318165 -0.767187401994 1.4197453088}  {0.338434470613 0.281158171819 0.324711654502} ',\n",
       "  'color $line_351  [0,0,255]',\n",
       "  'draw line_352 diameter 1 curve {0.40096318165 -0.767187401994 1.4197453088}  {0.400206594329 0.960794427216 0.913642089251} ',\n",
       "  'color $line_352  [0,0,255]',\n",
       "  'draw line_353 diameter 1 curve {0.40096318165 -0.767187401994 1.4197453088}  {0.569235353125 -3.0 -0.0205748706185} ',\n",
       "  'color $line_353  [0,0,255]',\n",
       "  'draw line_354 diameter 1 curve {0.788080683621 -0.0115169975537 1.23022309453}  {0.338434470613 0.281158171819 0.324711654502} ',\n",
       "  'color $line_354  [0,0,255]',\n",
       "  'draw line_355 diameter 1 curve {0.788080683621 -0.0115169975537 1.23022309453}  {0.648770828732 -0.0809640994908 0.029770166326} ',\n",
       "  'color $line_355  [0,0,255]',\n",
       "  'draw line_356 diameter 1 curve {0.496546510918 0.306819721563 -0.101797166126}  {0.338434470613 0.281158171819 0.324711654502} ',\n",
       "  'color $line_356  [0,0,255]',\n",
       "  'draw line_357 diameter 1 curve {0.496546510918 0.306819721563 -0.101797166126}  {1.19013705683 1.65472214736 -0.944984526865} ',\n",
       "  'color $line_357  [0,0,255]',\n",
       "  'draw line_358 diameter 1 curve {0.496546510918 0.306819721563 -0.101797166126}  {0.648770828732 -0.0809640994908 0.029770166326} ',\n",
       "  'color $line_358  [0,0,255]',\n",
       "  'draw line_359 diameter 1 curve {0.338434470613 0.281158171819 0.324711654502}  {0.400206594329 0.960794427216 0.913642089251} ',\n",
       "  'color $line_359  [0,0,255]',\n",
       "  'draw line_360 diameter 1 curve {0.338434470613 0.281158171819 0.324711654502}  {0.648770828732 -0.0809640994908 0.029770166326} ',\n",
       "  'color $line_360  [0,0,255]',\n",
       "  'draw line_361 diameter 1 curve {0.338434470613 0.281158171819 0.324711654502}  {-0.321621956302 -0.00855368681899 -0.0569939466244} ',\n",
       "  'color $line_361  [0,0,255]',\n",
       "  'draw line_362 diameter 1 curve {0.109378300354 3.0 1.29403767058}  {2.5056055841 2.60264307033 1.61191363088} ',\n",
       "  'color $line_362  [0,0,255]',\n",
       "  'draw line_363 diameter 1 curve {0.109378300354 3.0 1.29403767058}  {0.462806417532 1.67987602995 0.539864928032} ',\n",
       "  'color $line_363  [0,0,255]',\n",
       "  'draw line_364 diameter 1 curve {0.400206594329 0.960794427216 0.913642089251}  {-0.95591674543 1.42484782073 0.577315052311} ',\n",
       "  'color $line_364  [0,0,255]',\n",
       "  'draw line_365 diameter 1 curve {0.400206594329 0.960794427216 0.913642089251}  {0.462806417532 1.67987602995 0.539864928032} ',\n",
       "  'color $line_365  [0,0,255]',\n",
       "  'draw line_366 diameter 1 curve {1.19013705683 1.65472214736 -0.944984526865}  {0.462806417532 1.67987602995 0.539864928032} ',\n",
       "  'color $line_366  [0,0,255]',\n",
       "  'draw line_367 diameter 1 curve {0.569235353125 -3.0 -0.0205748706185}  {2.5056055841 2.60264307033 1.61191363088} ',\n",
       "  'color $line_367  [0,0,255]',\n",
       "  'draw line_368 diameter 1 curve {0.569235353125 -3.0 -0.0205748706185}  {-2.61615176812 0.963459927817 -3.0} ',\n",
       "  'color $line_368  [0,0,255]',\n",
       "  'draw line_369 diameter 1 curve {0.569235353125 -3.0 -0.0205748706185}  {-0.72607208185 -0.770864003332 -1.1561121631} ',\n",
       "  'color $line_369  [0,0,255]',\n",
       "  'draw line_370 diameter 1 curve {-0.95591674543 1.42484782073 0.577315052311}  {0.462806417532 1.67987602995 0.539864928032} ',\n",
       "  'color $line_370  [0,0,255]',\n",
       "  'draw line_371 diameter 1 curve {-0.95591674543 1.42484782073 0.577315052311}  {-1.50127184524 1.46618025675 -0.406631964443} ',\n",
       "  'color $line_371  [0,0,255]',\n",
       "  'draw line_372 diameter 1 curve {-0.95591674543 1.42484782073 0.577315052311}  {-1.5038020369 1.56104660249 2.31548585114} ',\n",
       "  'color $line_372  [0,0,255]',\n",
       "  'draw line_373 diameter 1 curve {2.5056055841 2.60264307033 1.61191363088}  {-1.5038020369 1.56104660249 2.31548585114} ',\n",
       "  'color $line_373  [0,0,255]',\n",
       "  'draw line_374 diameter 1 curve {2.5056055841 2.60264307033 1.61191363088}  {-2.61615176812 0.963459927817 -3.0} ',\n",
       "  'color $line_374  [0,0,255]',\n",
       "  'draw line_375 diameter 1 curve {-1.50127184524 1.46618025675 -0.406631964443}  {-1.5038020369 1.56104660249 2.31548585114} ',\n",
       "  'color $line_375  [0,0,255]',\n",
       "  'draw line_376 diameter 1 curve {-3.0 -3.0 -3.0}  {-3.0 3.0 -3.0} ',\n",
       "  'color $line_376 translucent 0.5 [0,0,0]',\n",
       "  'draw line_377 diameter 1 curve {-3.0 3.0 -3.0}  {3.0 3.0 -3.0} ',\n",
       "  'color $line_377 translucent 0.5 [0,0,0]',\n",
       "  'draw line_378 diameter 1 curve {3.0 3.0 -3.0}  {3.0 -3.0 -3.0} ',\n",
       "  'color $line_378 translucent 0.5 [0,0,0]',\n",
       "  'draw line_379 diameter 1 curve {3.0 -3.0 -3.0}  {-3.0 -3.0 -3.0} ',\n",
       "  'color $line_379 translucent 0.5 [0,0,0]',\n",
       "  'draw line_380 diameter 1 curve {-3.0 -3.0 -3.0}  {-3.0 -3.0 3.0} ',\n",
       "  'color $line_380 translucent 0.5 [0,0,0]',\n",
       "  'draw line_381 diameter 1 curve {-3.0 -3.0 3.0}  {-3.0 3.0 3.0} ',\n",
       "  'color $line_381 translucent 0.5 [0,0,0]',\n",
       "  'draw line_382 diameter 1 curve {-3.0 3.0 3.0}  {3.0 3.0 3.0} ',\n",
       "  'color $line_382 translucent 0.5 [0,0,0]',\n",
       "  'draw line_383 diameter 1 curve {3.0 3.0 3.0}  {3.0 -3.0 3.0} ',\n",
       "  'color $line_383 translucent 0.5 [0,0,0]',\n",
       "  'draw line_384 diameter 1 curve {3.0 -3.0 3.0}  {-3.0 -3.0 3.0} ',\n",
       "  'color $line_384 translucent 0.5 [0,0,0]',\n",
       "  'draw line_385 diameter 1 curve {-3.0 -3.0 3.0} ',\n",
       "  'color $line_385 translucent 0.5 [0,0,0]',\n",
       "  'draw line_386 diameter 1 curve {-3.0 3.0 -3.0}  {-3.0 3.0 3.0} ',\n",
       "  'color $line_386 translucent 0.5 [0,0,0]',\n",
       "  'draw line_387 diameter 1 curve {3.0 -3.0 -3.0}  {3.0 -3.0 3.0} ',\n",
       "  'color $line_387 translucent 0.5 [0,0,0]',\n",
       "  'draw line_388 diameter 1 curve {3.0 3.0 -3.0}  {3.0 3.0 3.0} ',\n",
       "  'color $line_388 translucent 0.5 [0,0,0]',\n",
       "  'select atomno = 1',\n",
       "  'color atom  [76,76,76]',\n",
       "  'label &quot;-1.6&quot;',\n",
       "  'select atomno = 2',\n",
       "  'color atom  [76,76,76]',\n",
       "  'label &quot;0.1&quot;',\n",
       "  'select atomno = 3',\n",
       "  'color atom  [76,76,76]',\n",
       "  'label &quot;1.8&quot;',\n",
       "  'select atomno = 4',\n",
       "  'color atom  [76,76,76]',\n",
       "  'label &quot;-1.9&quot;',\n",
       "  'select atomno = 5',\n",
       "  'color atom  [76,76,76]',\n",
       "  'label &quot;-0.3&quot;',\n",
       "  'select atomno = 6',\n",
       "  'color atom  [76,76,76]',\n",
       "  'label &quot;1.3&quot;',\n",
       "  'select atomno = 7',\n",
       "  'color atom  [76,76,76]',\n",
       "  'label &quot;-1.5&quot;',\n",
       "  'select atomno = 8',\n",
       "  'color atom  [76,76,76]',\n",
       "  'label &quot;-0.1&quot;',\n",
       "  'select atomno = 9',\n",
       "  'color atom  [76,76,76]',\n",
       "  'label &quot;1.2&quot;',\n",
       "  'isosurface fullylit; pmesh o* fullylit; set antialiasdisplay on;',\n",
       "].join('\\n');;\n",
       "    var Info = {\n",
       "      width: '100%',\n",
       "      height: '500',\n",
       "      debug: false,\n",
       "      disableInitialConsole: true,   // very slow when used with inline mesh\n",
       "      color: '#3131ff',\n",
       "      addSelectionOptions: false,\n",
       "      use: 'HTML5',\n",
       "      j2sPath: '/nbextensions/jsmol/j2s',\n",
       "      script: script,\n",
       "    };\n",
       "    var jmolApplet0 = Jmol.getApplet('jmolApplet0', Info);\n",
       "  </script>\n",
       "</body>\n",
       "</html>\n",
       "\" \n",
       "        width=\"100%\"\n",
       "        height=\"500\"\n",
       "        style=\"border: 0;\">\n",
       "</iframe>\n"
      ],
      "text/plain": [
       "Graphics3d Object"
      ]
     },
     "execution_count": 264,
     "metadata": {},
     "output_type": "execute_result"
    }
   ],
   "source": [
    "plh.plot()"
   ]
  },
  {
   "cell_type": "code",
   "execution_count": 257,
   "metadata": {
    "collapsed": false
   },
   "outputs": [
    {
     "data": {
      "text/plain": [
       "(1, 54, 321, 534, 267, 1)"
      ]
     },
     "execution_count": 257,
     "metadata": {},
     "output_type": "execute_result"
    }
   ],
   "source": [
    "plh.f_vector()"
   ]
  },
  {
   "cell_type": "code",
   "execution_count": 260,
   "metadata": {
    "collapsed": false
   },
   "outputs": [
    {
     "data": {
      "text/plain": [
       "True"
      ]
     },
     "execution_count": 260,
     "metadata": {},
     "output_type": "execute_result"
    }
   ],
   "source": [
    "plh.is_simplicial()"
   ]
  },
  {
   "cell_type": "code",
   "execution_count": 258,
   "metadata": {
    "collapsed": false
   },
   "outputs": [],
   "source": [
    "plh_sc = get_simplical_complex(plh)"
   ]
  },
  {
   "cell_type": "code",
   "execution_count": 263,
   "metadata": {
    "collapsed": false
   },
   "outputs": [
    {
     "data": {
      "text/plain": [
       "[1, 49, 115]"
      ]
     },
     "execution_count": 263,
     "metadata": {},
     "output_type": "execute_result"
    }
   ],
   "source": [
    "plh_sc.g_vector()"
   ]
  },
  {
   "cell_type": "code",
   "execution_count": 266,
   "metadata": {
    "collapsed": false
   },
   "outputs": [
    {
     "data": {
      "text/plain": [
       "True"
      ]
     },
     "execution_count": 266,
     "metadata": {},
     "output_type": "execute_result"
    }
   ],
   "source": [
    "plh_sc.barycentric_subdivision().is_flag_complex()"
   ]
  },
  {
   "cell_type": "code",
   "execution_count": 269,
   "metadata": {
    "collapsed": true
   },
   "outputs": [],
   "source": [
    "plh_graph = plh.graph()"
   ]
  },
  {
   "cell_type": "code",
   "execution_count": 273,
   "metadata": {
    "collapsed": false
   },
   "outputs": [
    {
     "data": {
      "image/png": "[encoded data removed]",
      "text/plain": [
       "Graphics object consisting of 322 graphics primitives"
      ]
     },
     "execution_count": 273,
     "metadata": {},
     "output_type": "execute_result"
    }
   ],
   "source": [
    "plh_graph.plot(vertex_labels=False)"
   ]
  },
  {
   "cell_type": "markdown",
   "metadata": {
    "collapsed": true
   },
   "source": [
    "### Distribution of f-vectors for simplical 4-polytopes:"
   ]
  },
  {
   "cell_type": "markdown",
   "metadata": {},
   "source": [
    "For a simplicial polytope we have the following lower and upper bounds for the number of edges:\n",
    "$$\\binom{f_0}{2} \\geq f_1 \\geq d f_0 -   \\binom{d+1}{2}$$\n",
    "\n",
    "And in particular for a $4$-polytope it is $f_1 \\geq 4 f_0 - 10$."
   ]
  },
  {
   "cell_type": "code",
   "execution_count": 65,
   "metadata": {
    "collapsed": false
   },
   "outputs": [
    {
     "data": {
      "text/plain": [
       "99"
      ]
     },
     "execution_count": 65,
     "metadata": {},
     "output_type": "execute_result"
    }
   ],
   "source": [
    "sphere_polytope(d = 4, p = 20).f_vector()[2]"
   ]
  },
  {
   "cell_type": "code",
   "execution_count": 101,
   "metadata": {
    "collapsed": false
   },
   "outputs": [
    {
     "data": {
      "text/plain": [
       "(1, 15, 66, 102, 51, 1)"
      ]
     },
     "execution_count": 101,
     "metadata": {},
     "output_type": "execute_result"
    }
   ],
   "source": [
    "plh.f_vector()"
   ]
  },
  {
   "cell_type": "code",
   "execution_count": 89,
   "metadata": {
    "collapsed": false
   },
   "outputs": [
    {
     "data": {
      "text/plain": [
       "False"
      ]
     },
     "execution_count": 89,
     "metadata": {},
     "output_type": "execute_result"
    }
   ],
   "source": [
    "get_simplical_complex(plh).is_flag_complex()"
   ]
  },
  {
   "cell_type": "code",
   "execution_count": 110,
   "metadata": {
    "collapsed": false
   },
   "outputs": [
    {
     "name": "stdout",
     "output_type": "stream",
     "text": [
      "A 4-dimensional polyhedron in RDF^4 defined as the convex hull of 15 vertices\n",
      "A 4-dimensional polyhedron in RDF^4 defined as the convex hull of 15 vertices\n",
      "A 4-dimensional polyhedron in RDF^4 defined as the convex hull of 15 vertices\n",
      "A 4-dimensional polyhedron in RDF^4 defined as the convex hull of 15 vertices\n",
      "A 4-dimensional polyhedron in RDF^4 defined as the convex hull of 15 vertices\n",
      "A 4-dimensional polyhedron in RDF^4 defined as the convex hull of 15 vertices\n",
      "A 4-dimensional polyhedron in RDF^4 defined as the convex hull of 15 vertices\n",
      "A 4-dimensional polyhedron in RDF^4 defined as the convex hull of 15 vertices\n",
      "A 4-dimensional polyhedron in RDF^4 defined as the convex hull of 15 vertices\n",
      "A 4-dimensional polyhedron in RDF^4 defined as the convex hull of 15 vertices\n",
      "A 4-dimensional polyhedron in RDF^4 defined as the convex hull of 15 vertices\n",
      "A 4-dimensional polyhedron in RDF^4 defined as the convex hull of 15 vertices\n",
      "A 4-dimensional polyhedron in RDF^4 defined as the convex hull of 15 vertices\n",
      "A 4-dimensional polyhedron in RDF^4 defined as the convex hull of 15 vertices\n",
      "A 4-dimensional polyhedron in RDF^4 defined as the convex hull of 15 vertices\n",
      "A 4-dimensional polyhedron in RDF^4 defined as the convex hull of 15 vertices\n",
      "A 4-dimensional polyhedron in RDF^4 defined as the convex hull of 15 vertices\n",
      "A 4-dimensional polyhedron in RDF^4 defined as the convex hull of 15 vertices\n",
      "A 4-dimensional polyhedron in RDF^4 defined as the convex hull of 15 vertices\n",
      "A 4-dimensional polyhedron in RDF^4 defined as the convex hull of 15 vertices\n",
      "A 4-dimensional polyhedron in RDF^4 defined as the convex hull of 15 vertices\n",
      "A 4-dimensional polyhedron in RDF^4 defined as the convex hull of 15 vertices\n",
      "A 4-dimensional polyhedron in RDF^4 defined as the convex hull of 15 vertices\n",
      "A 4-dimensional polyhedron in RDF^4 defined as the convex hull of 15 vertices\n",
      "A 4-dimensional polyhedron in RDF^4 defined as the convex hull of 15 vertices\n",
      "A 4-dimensional polyhedron in RDF^4 defined as the convex hull of 15 vertices\n",
      "A 4-dimensional polyhedron in RDF^4 defined as the convex hull of 15 vertices\n",
      "A 4-dimensional polyhedron in RDF^4 defined as the convex hull of 15 vertices\n",
      "A 4-dimensional polyhedron in RDF^4 defined as the convex hull of 15 vertices\n",
      "A 4-dimensional polyhedron in RDF^4 defined as the convex hull of 15 vertices\n",
      "A 4-dimensional polyhedron in RDF^4 defined as the convex hull of 15 vertices\n",
      "A 4-dimensional polyhedron in RDF^4 defined as the convex hull of 15 vertices\n",
      "A 4-dimensional polyhedron in RDF^4 defined as the convex hull of 15 vertices\n",
      "A 4-dimensional polyhedron in RDF^4 defined as the convex hull of 15 vertices\n",
      "A 4-dimensional polyhedron in RDF^4 defined as the convex hull of 15 vertices\n",
      "A 4-dimensional polyhedron in RDF^4 defined as the convex hull of 15 vertices\n",
      "A 4-dimensional polyhedron in RDF^4 defined as the convex hull of 15 vertices\n",
      "A 4-dimensional polyhedron in RDF^4 defined as the convex hull of 15 vertices\n",
      "A 4-dimensional polyhedron in RDF^4 defined as the convex hull of 15 vertices\n",
      "A 4-dimensional polyhedron in RDF^4 defined as the convex hull of 15 vertices\n",
      "A 4-dimensional polyhedron in RDF^4 defined as the convex hull of 15 vertices\n",
      "A 4-dimensional polyhedron in RDF^4 defined as the convex hull of 15 vertices\n",
      "A 4-dimensional polyhedron in RDF^4 defined as the convex hull of 15 vertices\n",
      "A 4-dimensional polyhedron in RDF^4 defined as the convex hull of 15 vertices\n",
      "A 4-dimensional polyhedron in RDF^4 defined as the convex hull of 15 vertices\n",
      "A 4-dimensional polyhedron in RDF^4 defined as the convex hull of 15 vertices\n",
      "A 4-dimensional polyhedron in RDF^4 defined as the convex hull of 15 vertices\n",
      "A 4-dimensional polyhedron in RDF^4 defined as the convex hull of 15 vertices\n",
      "A 4-dimensional polyhedron in RDF^4 defined as the convex hull of 15 vertices\n",
      "A 4-dimensional polyhedron in RDF^4 defined as the convex hull of 15 vertices\n",
      "A 4-dimensional polyhedron in RDF^4 defined as the convex hull of 15 vertices\n",
      "A 4-dimensional polyhedron in RDF^4 defined as the convex hull of 15 vertices\n",
      "A 4-dimensional polyhedron in RDF^4 defined as the convex hull of 15 vertices\n",
      "A 4-dimensional polyhedron in RDF^4 defined as the convex hull of 15 vertices\n",
      "A 4-dimensional polyhedron in RDF^4 defined as the convex hull of 15 vertices\n",
      "A 4-dimensional polyhedron in RDF^4 defined as the convex hull of 15 vertices\n",
      "A 4-dimensional polyhedron in RDF^4 defined as the convex hull of 15 vertices\n",
      "A 4-dimensional polyhedron in RDF^4 defined as the convex hull of 15 vertices\n",
      "A 4-dimensional polyhedron in RDF^4 defined as the convex hull of 15 vertices\n",
      "A 4-dimensional polyhedron in RDF^4 defined as the convex hull of 15 vertices\n",
      "A 4-dimensional polyhedron in RDF^4 defined as the convex hull of 15 vertices\n",
      "A 4-dimensional polyhedron in RDF^4 defined as the convex hull of 15 vertices\n",
      "A 4-dimensional polyhedron in RDF^4 defined as the convex hull of 15 vertices\n",
      "A 4-dimensional polyhedron in RDF^4 defined as the convex hull of 15 vertices\n",
      "A 4-dimensional polyhedron in RDF^4 defined as the convex hull of 15 vertices\n",
      "A 4-dimensional polyhedron in RDF^4 defined as the convex hull of 15 vertices\n",
      "A 4-dimensional polyhedron in RDF^4 defined as the convex hull of 15 vertices\n",
      "A 4-dimensional polyhedron in RDF^4 defined as the convex hull of 15 vertices\n",
      "A 4-dimensional polyhedron in RDF^4 defined as the convex hull of 15 vertices\n",
      "A 4-dimensional polyhedron in RDF^4 defined as the convex hull of 15 vertices\n",
      "A 4-dimensional polyhedron in RDF^4 defined as the convex hull of 15 vertices\n",
      "A 4-dimensional polyhedron in RDF^4 defined as the convex hull of 15 vertices\n",
      "A 4-dimensional polyhedron in RDF^4 defined as the convex hull of 15 vertices\n",
      "A 4-dimensional polyhedron in RDF^4 defined as the convex hull of 15 vertices\n",
      "A 4-dimensional polyhedron in RDF^4 defined as the convex hull of 15 vertices\n",
      "A 4-dimensional polyhedron in RDF^4 defined as the convex hull of 15 vertices\n",
      "A 4-dimensional polyhedron in RDF^4 defined as the convex hull of 15 vertices\n",
      "A 4-dimensional polyhedron in RDF^4 defined as the convex hull of 15 vertices\n",
      "A 4-dimensional polyhedron in RDF^4 defined as the convex hull of 15 vertices\n",
      "A 4-dimensional polyhedron in RDF^4 defined as the convex hull of 15 vertices\n",
      "A 4-dimensional polyhedron in RDF^4 defined as the convex hull of 15 vertices\n",
      "A 4-dimensional polyhedron in RDF^4 defined as the convex hull of 15 vertices\n",
      "A 4-dimensional polyhedron in RDF^4 defined as the convex hull of 15 vertices\n",
      "A 4-dimensional polyhedron in RDF^4 defined as the convex hull of 15 vertices\n",
      "A 4-dimensional polyhedron in RDF^4 defined as the convex hull of 15 vertices\n",
      "A 4-dimensional polyhedron in RDF^4 defined as the convex hull of 15 vertices\n",
      "A 4-dimensional polyhedron in RDF^4 defined as the convex hull of 15 vertices\n",
      "A 4-dimensional polyhedron in RDF^4 defined as the convex hull of 15 vertices\n",
      "A 4-dimensional polyhedron in RDF^4 defined as the convex hull of 15 vertices\n",
      "A 4-dimensional polyhedron in RDF^4 defined as the convex hull of 15 vertices\n",
      "A 4-dimensional polyhedron in RDF^4 defined as the convex hull of 15 vertices\n",
      "A 4-dimensional polyhedron in RDF^4 defined as the convex hull of 15 vertices\n",
      "A 4-dimensional polyhedron in RDF^4 defined as the convex hull of 15 vertices\n",
      "A 4-dimensional polyhedron in RDF^4 defined as the convex hull of 15 vertices\n",
      "A 4-dimensional polyhedron in RDF^4 defined as the convex hull of 15 vertices\n",
      "A 4-dimensional polyhedron in RDF^4 defined as the convex hull of 15 vertices\n",
      "A 4-dimensional polyhedron in RDF^4 defined as the convex hull of 15 vertices\n",
      "A 4-dimensional polyhedron in RDF^4 defined as the convex hull of 15 vertices\n",
      "A 4-dimensional polyhedron in RDF^4 defined as the convex hull of 15 vertices\n",
      "A 4-dimensional polyhedron in RDF^4 defined as the convex hull of 15 vertices\n"
     ]
    }
   ],
   "source": [
    "edges = []\n",
    "flag = []\n",
    "for i in range(1000):\n",
    "    try:\n",
    "        plh = sphere_polytope(d = 4, p = 15)\n",
    "        \n",
    "        if i %100 == 0:\n",
    "            print(plh)\n",
    "            \n",
    "        edges.append(plh.f_vector()[2])\n",
    "        \n",
    "        \n",
    "        plh_sc = get_simplical_complex(plh)\n",
    "        is_flag = get_simplical_complex(plh).is_flag_complex()\n",
    "        flag.append(is_flag)\n",
    "        \n",
    "    except:\n",
    "        pass        "
   ]
  },
  {
   "cell_type": "code",
   "execution_count": 111,
   "metadata": {
    "collapsed": false
   },
   "outputs": [
    {
     "data": {
      "text/plain": [
       "952"
      ]
     },
     "execution_count": 111,
     "metadata": {},
     "output_type": "execute_result"
    }
   ],
   "source": [
    "len(edges)"
   ]
  },
  {
   "cell_type": "code",
   "execution_count": null,
   "metadata": {
    "collapsed": true
   },
   "outputs": [],
   "source": []
  },
  {
   "cell_type": "code",
   "execution_count": 115,
   "metadata": {
    "collapsed": false
   },
   "outputs": [
    {
     "data": {
      "text/plain": [
       "(array([   1.,    0.,    0.,    0.,    0.,    1.,    0.,    3.,    5.,\n",
       "           0.,   34.,    0.,   52.,    0.,  135.,  154.,    0.,  183.,\n",
       "           0.,  162.,    0.,  110.,   54.,    0.,   36.,    0.,   14.,\n",
       "           0.,    6.,    2.]),\n",
       " array([ 57.        ,  57.56666667,  58.13333333,  58.7       ,\n",
       "         59.26666667,  59.83333333,  60.4       ,  60.96666667,\n",
       "         61.53333333,  62.1       ,  62.66666667,  63.23333333,\n",
       "         63.8       ,  64.36666667,  64.93333333,  65.5       ,\n",
       "         66.06666667,  66.63333333,  67.2       ,  67.76666667,\n",
       "         68.33333333,  68.9       ,  69.46666667,  70.03333333,\n",
       "         70.6       ,  71.16666667,  71.73333333,  72.3       ,\n",
       "         72.86666667,  73.43333333,  74.        ]),\n",
       " <a list of 30 Patch objects>)"
      ]
     },
     "execution_count": 115,
     "metadata": {},
     "output_type": "execute_result"
    },
    {
     "data": {
      "image/png": "[encoded data removed]",
      "text/plain": [
       "<matplotlib.figure.Figure object at 0x1afbca6d0>"
      ]
     },
     "metadata": {},
     "output_type": "display_data"
    }
   ],
   "source": [
    "plt.hist(edges, bins = 30)"
   ]
  },
  {
   "cell_type": "code",
   "execution_count": 121,
   "metadata": {
    "collapsed": false
   },
   "outputs": [],
   "source": [
    "plh = sphere_polytope(d = 4, p = 20)\n",
    "sc_plh = get_simplical_complex(plh)"
   ]
  },
  {
   "cell_type": "code",
   "execution_count": 132,
   "metadata": {
    "collapsed": false
   },
   "outputs": [
    {
     "data": {
      "text/plain": [
       "(1, 20, 97, 154, 77, 1)"
      ]
     },
     "execution_count": 132,
     "metadata": {},
     "output_type": "execute_result"
    }
   ],
   "source": [
    "plh.f_vector()"
   ]
  },
  {
   "cell_type": "code",
   "execution_count": 124,
   "metadata": {
    "collapsed": false
   },
   "outputs": [
    {
     "data": {
      "text/plain": [
       "[1, 15, 27]"
      ]
     },
     "execution_count": 124,
     "metadata": {},
     "output_type": "execute_result"
    }
   ],
   "source": [
    "sc_plh.g_vector()"
   ]
  },
  {
   "cell_type": "code",
   "execution_count": 125,
   "metadata": {
    "collapsed": false
   },
   "outputs": [
    {
     "data": {
      "text/plain": [
       "False"
      ]
     },
     "execution_count": 125,
     "metadata": {},
     "output_type": "execute_result"
    }
   ],
   "source": [
    "sc_plh.is_flag_complex()"
   ]
  },
  {
   "cell_type": "code",
   "execution_count": 130,
   "metadata": {
    "collapsed": false
   },
   "outputs": [],
   "source": [
    "plh_cliques = sc_plh.graph().clique_complex()"
   ]
  },
  {
   "cell_type": "code",
   "execution_count": 131,
   "metadata": {
    "collapsed": false
   },
   "outputs": [
    {
     "data": {
      "text/plain": [
       "[1, 20, 97, 165, 100, 12]"
      ]
     },
     "execution_count": 131,
     "metadata": {},
     "output_type": "execute_result"
    }
   ],
   "source": [
    "plh_cliques.f_vector()"
   ]
  },
  {
   "cell_type": "code",
   "execution_count": 133,
   "metadata": {
    "collapsed": true
   },
   "outputs": [],
   "source": [
    "cycle = SimplicialComplex([[1,2], [2, 3], [3, 1]])"
   ]
  },
  {
   "cell_type": "code",
   "execution_count": 142,
   "metadata": {
    "collapsed": false
   },
   "outputs": [],
   "source": [
    "stacked_poly = cycle.join(cycle)"
   ]
  },
  {
   "cell_type": "code",
   "execution_count": 149,
   "metadata": {
    "collapsed": false
   },
   "outputs": [
    {
     "data": {
      "text/plain": [
       "[1, 6, 15, 18, 9]"
      ]
     },
     "execution_count": 149,
     "metadata": {},
     "output_type": "execute_result"
    }
   ],
   "source": [
    "stacked_poly.f_vector()"
   ]
  },
  {
   "cell_type": "code",
   "execution_count": null,
   "metadata": {
    "collapsed": true
   },
   "outputs": [],
   "source": []
  }
 ],
 "metadata": {
  "kernelspec": {
   "display_name": "SageMath 7.3",
   "language": "",
   "name": "sagemath"
  },
  "language_info": {
   "codemirror_mode": {
    "name": "ipython",
    "version": 2
   },
   "file_extension": ".py",
   "mimetype": "text/x-python",
   "name": "python",
   "nbconvert_exporter": "python",
   "pygments_lexer": "ipython2",
   "version": "2.7.10"
  }
 },
 "nbformat": 4,
 "nbformat_minor": 0
}
